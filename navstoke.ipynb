{
 "cells": [
  {
   "cell_type": "code",
   "execution_count": 1,
   "metadata": {},
   "outputs": [],
   "source": [
    "import numpy as np\n",
    "from tqdm import tqdm\n",
    "import pymc as pm\n",
    "import skfem as fem\n",
    "from skfem import MeshLine, ElementLineP1, Basis, BilinearForm, LinearForm\n",
    "from skfem.helpers import dot, grad, d, dd\n",
    "\n",
    "import matplotlib.pyplot as plt\n",
    "import seaborn as sns\n",
    "\n",
    "from scipy.stats import truncnorm\n",
    "import scipy.stats as scstats\n",
    "import scipy.sparse as scsparse\n",
    "import scipy.optimize as scoptimize\n",
    "import scipy.linalg as sclinalg\n",
    "\n",
    "# import pytensor.tensor.subtensor as subtensor\n",
    "# import pytensor.tensor as tensor\n",
    "# import pytensor.sparse as sparsetensor\n",
    "import arviz as az\n",
    "\n",
    "import pytensor.tensor as at\n",
    "from pytensor import function, scan, shared, config, printing\n",
    "from pytensor import grad as ptgrad\n",
    "import numpy as np\n",
    "from tqdm import tqdm\n",
    "from pytensor import sparse\n",
    "\n",
    "import scienceplots\n",
    "# plot params\n",
    "contour_levels = 10\n",
    "plt.style.use(['science', 'grid'])\n",
    "color_list = [(253, 231, 37),(194, 223, 35),(134, 213, 73),(82, 197, 105),(42, 176, 127),(30, 155, 138),(37, 133, 142),(45, 112, 142),(56, 88, 140),(67, 62, 133),(72, 33, 115),(68, 1, 84)]\n",
    "color_list = [tuple(ti/255 for ti in t) for t in color_list]"
   ]
  },
  {
   "cell_type": "code",
   "execution_count": 290,
   "metadata": {},
   "outputs": [],
   "source": [
    "from skfem.models.poisson import vector_laplace, laplace\n",
    "from skfem.models.general import divergence\n",
    "\n",
    "@fem.BilinearForm\n",
    "def vector_mass(u, v, w):\n",
    "    return sum(v * u)\n",
    "\n",
    "\n",
    "@fem.BilinearForm\n",
    "def port_pressure(u, v, w):\n",
    "    return sum(v * (u * w.n))\n",
    "\n",
    "\n",
    "p_inlet = 8.0\n",
    "\n",
    "mesh = fem.MeshTri().refined(3)\n",
    "# mesh.refined(4)\n",
    "\n",
    "boundary = {\n",
    "    \"inlet\": mesh.facets_satisfying(lambda x: x[0] == 0),\n",
    "    \"outlet\": mesh.facets_satisfying(lambda x: x[0] == 1),\n",
    "    \"wall\": mesh.facets_satisfying(lambda x: np.logical_or(x[1] == 0, x[1] == 1)),\n",
    "}\n",
    "boundary[\"ports\"] = np.concatenate([boundary[\"inlet\"], boundary[\"outlet\"]])\n",
    "\n",
    "element = {\"u\": fem.ElementVectorH1(fem.ElementTriP2()), \"p\": fem.ElementTriP1()}\n",
    "basis = {\n",
    "    **{v: fem.InteriorBasis(mesh, e, intorder=4) for v, e in element.items()},\n",
    "    **{\n",
    "        label: fem.FacetBasis(mesh, element[\"u\"], facets=boundary[label])\n",
    "        for label in [\"inlet\", \"outlet\"]\n",
    "    },\n",
    "}\n",
    "\n",
    "\n",
    "M = fem.asm(vector_mass, basis[\"u\"])\n",
    "L = {\"u\": fem.asm(vector_laplace, basis[\"u\"]), \"p\": fem.asm(laplace, basis[\"p\"])}\n",
    "B = -fem.asm(divergence, basis[\"u\"], basis[\"p\"])\n",
    "P = B.T + fem.asm(\n",
    "    port_pressure,\n",
    "    *(\n",
    "        fem.FacetBasis(mesh, element[v], facets=boundary[\"ports\"], intorder=3)\n",
    "        for v in [\"p\", \"u\"]\n",
    "    )\n",
    ")\n",
    "\n",
    "t_final = 1.0\n",
    "dt = 0.025\n",
    "\n",
    "dirichlet = {\n",
    "    \"u\": basis[\"u\"].get_dofs(boundary[\"wall\"]).all(),\n",
    "    \"p\": np.concatenate([basis[\"p\"].get_dofs(boundary[\"ports\"]).all()]),\n",
    "}\n",
    "inlet_pressure_dofs = basis[\"p\"].get_dofs(boundary[\"inlet\"]).all()\n",
    "\n",
    "uv_, p_ = (np.zeros(basis[v].N) for v in element.keys())  # penultimate\n",
    "p__ = np.zeros_like(p_)  # antepenultimate\n",
    "\n",
    "K = M / dt + L[\"u\"]\n",
    "\n",
    "t = 0\n",
    "\n",
    "while t < t_final:\n",
    "\n",
    "    t += dt\n",
    "\n",
    "    # Step 1: Momentum prediction (Ern & Guermond 2002, eq. 7.40, p. 274)\n",
    "\n",
    "    uv = fem.solve(\n",
    "        *fem.condense(\n",
    "            K,\n",
    "            (M / dt) @ uv_ - P @ (2 * p_ - p__),\n",
    "            np.zeros_like(uv_),\n",
    "            D=dirichlet[\"u\"],\n",
    "        )\n",
    "    )\n",
    "\n",
    "    # Step 2: Projection (Ern & Guermond 2002, eq. 7.41, p. 274)\n",
    "\n",
    "    dp = np.zeros(basis[\"p\"].N)\n",
    "    dp[inlet_pressure_dofs] = p_inlet - p_[inlet_pressure_dofs]\n",
    "\n",
    "    dp = fem.solve(*fem.condense(L[\"p\"], B @ uv, dp, D=dirichlet[\"p\"]))\n",
    "\n",
    "    # Step 3: Recover pressure and velocity (E. & G. 2002, p. 274)\n",
    "\n",
    "    p = p_ + dp\n",
    "\n",
    "    du = fem.solve(*fem.condense(M / dt, -P @ dp, D=dirichlet[\"u\"]))\n",
    "    u = uv + du\n",
    "\n",
    "    uv_ = uv\n",
    "    p_, p__ = p, p_\n"
   ]
  },
  {
   "cell_type": "code",
   "execution_count": 291,
   "metadata": {},
   "outputs": [
    {
     "data": {
      "image/png": "[encoded data removed]",
      "text/plain": [
       "<Figure size 350x262.5 with 1 Axes>"
      ]
     },
     "metadata": {},
     "output_type": "display_data"
    }
   ],
   "source": [
    "for coordinate in mesh.p.T[:9]:\n",
    "    plt.scatter(coordinate[0],coordinate[1], color='red', alpha=0.5)\n",
    "\n",
    "\n",
    "for coordinate in basis['u'].doflocs.T[:24]:\n",
    "    plt.scatter(coordinate[0],coordinate[1], color='blue', alpha=0.5)"
   ]
  },
  {
   "cell_type": "code",
   "execution_count": 292,
   "metadata": {},
   "outputs": [
    {
     "data": {
      "text/plain": [
       "<matplotlib.tri._tricontour.TriContourSet at 0x7440cf603a10>"
      ]
     },
     "execution_count": 292,
     "metadata": {},
     "output_type": "execute_result"
    },
    {
     "data": {
      "image/png": "[encoded data removed]",
      "text/plain": [
       "<Figure size 350x262.5 with 1 Axes>"
      ]
     },
     "metadata": {},
     "output_type": "display_data"
    }
   ],
   "source": [
    "coordinates = mesh.p.T\n",
    "\n",
    "import matplotlib.tri as tri\n",
    "\n",
    "xs = coordinates[:,0]\n",
    "ys = coordinates[:,1]\n",
    "\n",
    "triang = tri.Triangulation(xs,ys)\n",
    "\n",
    "plt.tricontourf(triang,p)"
   ]
  },
  {
   "cell_type": "code",
   "execution_count": 297,
   "metadata": {},
   "outputs": [
    {
     "data": {
      "text/plain": [
       "<matplotlib.tri._tricontour.TriContourSet at 0x7440dc6968a0>"
      ]
     },
     "execution_count": 297,
     "metadata": {},
     "output_type": "execute_result"
    },
    {
     "data": {
      "image/png": "[encoded data removed]",
      "text/plain": [
       "<Figure size 350x262.5 with 1 Axes>"
      ]
     },
     "metadata": {},
     "output_type": "display_data"
    }
   ],
   "source": [
    "coordinates = basis['u'].doflocs.T[::2]\n",
    "\n",
    "import matplotlib.tri as tri\n",
    "\n",
    "xs = coordinates[:,0]\n",
    "ys = coordinates[:,1]\n",
    "\n",
    "triang = tri.Triangulation(xs,ys)\n",
    "\n",
    "plt.tricontourf(triang,uv[::2])"
   ]
  },
  {
   "cell_type": "code",
   "execution_count": null,
   "metadata": {},
   "outputs": [],
   "source": []
  }
 ],
 "metadata": {
  "kernelspec": {
   "display_name": "pymcenv",
   "language": "python",
   "name": "python3"
  },
  "language_info": {
   "codemirror_mode": {
    "name": "ipython",
    "version": 3
   },
   "file_extension": ".py",
   "mimetype": "text/x-python",
   "name": "python",
   "nbconvert_exporter": "python",
   "pygments_lexer": "ipython3",
   "version": "3.12.3"
  }
 },
 "nbformat": 4,
 "nbformat_minor": 2
}
