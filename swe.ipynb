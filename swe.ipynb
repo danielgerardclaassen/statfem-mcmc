{
 "cells": [
  {
   "cell_type": "code",
   "execution_count": 1,
   "metadata": {},
   "outputs": [],
   "source": [
    "import numpy as np\n",
    "from tqdm import tqdm\n",
    "import pymc as pm\n",
    "import skfem as fem\n",
    "from skfem import MeshLine, ElementLineP1, Basis, BilinearForm, LinearForm\n",
    "from skfem.helpers import dot, grad, d, dd\n",
    "\n",
    "import matplotlib.pyplot as plt\n",
    "import seaborn as sns\n",
    "\n",
    "from scipy.stats import truncnorm\n",
    "import scipy.stats as scstats\n",
    "import scipy.sparse as scsparse\n",
    "import scipy.optimize as scoptimize\n",
    "import scipy.linalg as sclinalg\n",
    "\n",
    "# import pytensor.tensor.subtensor as subtensor\n",
    "# import pytensor.tensor as tensor\n",
    "# import pytensor.sparse as sparsetensor\n",
    "import arviz as az\n",
    "\n",
    "import pytensor.tensor as at\n",
    "from pytensor import function, scan, shared, config, printing\n",
    "from pytensor import grad as ptgrad\n",
    "import numpy as np\n",
    "from tqdm import tqdm\n",
    "from pytensor import sparse\n",
    "\n",
    "import scienceplots\n",
    "# plot params\n",
    "contour_levels = 10\n",
    "plt.style.use(['science', 'grid'])\n",
    "color_list = [(253, 231, 37),(194, 223, 35),(134, 213, 73),(82, 197, 105),(42, 176, 127),(30, 155, 138),(37, 133, 142),(45, 112, 142),(56, 88, 140),(67, 62, 133),(72, 33, 115),(68, 1, 84)]\n",
    "color_list = [tuple(ti/255 for ti in t) for t in color_list]"
   ]
  },
  {
   "cell_type": "code",
   "execution_count": 9,
   "metadata": {},
   "outputs": [],
   "source": [
    "import sympy as sp\n",
    "\n",
    "# Define spatial and temporal variables\n",
    "x, t = sp.symbols('x t')\n",
    "\n",
    "g = sp.symbols(r'g')\n",
    "s = sp.symbols(r's')\n",
    "h_bar = sp.symbols(r'\\bat{H}')\n",
    "nu = sp.symbols(r'\\nu')\n",
    "theta = sp.symbols(r'\\theta')\n",
    "dt = sp.symbols(r'\\Delta_t')\n",
    "\n",
    "u = sp.Function(r'u')(x,t)\n",
    "eta = sp.Function(r'\\eta')(x,t)\n",
    "b = sp.Function(r'b')(x) #5*(1+sp.tanh((x-5)/2000))\n",
    "H = h_bar - b\n",
    "\n",
    "EQ1 = u*sp.diff(u, x) - nu*sp.diff(u, x, 2) + g*sp.diff(eta, x)\n",
    "EQ2 = sp.diff(H, x)*sp.diff(u, x, 2) + sp.diff(H, x, 2)*sp.diff(u, x) + sp.diff(eta, x, 2)*sp.diff(u, x) + sp.diff(eta, x)*sp.diff(u, x, 2)\n",
    "\n",
    "u_1 = sp.Function(r'u^{n+1}')(x)\n",
    "u_0 = sp.Function(r'u^{n}')(x)\n",
    "\n",
    "eta_1 = sp.Function(r'\\eta^{n+1}')(x)\n",
    "eta_0 = sp.Function(r'\\eta^{n}')(x)\n",
    "\n",
    "cn_u = (u_1 - u_0) / dt\n",
    "cn_eta = (eta_1 - eta_0) / dt\n",
    "\n",
    "cn_EQ1 = -cn_u + theta*EQ1.subs([(u, u_1), (eta, eta_1)]) + (1-theta)*EQ1.subs([(u, u_0), (eta, eta_0)]).expand().doit()\n",
    "cn_EQ2 = -cn_eta + theta*EQ2.subs([(u, u_1), (eta, eta_1)]) + (1-theta)*EQ2.subs([(u, u_0), (eta, eta_0)]).expand().doit()\n"
   ]
  },
  {
   "cell_type": "code",
   "execution_count": 10,
   "metadata": {},
   "outputs": [
    {
     "data": {
      "text/latex": [
       "$\\displaystyle - \\nu \\frac{\\partial^{2}}{\\partial x^{2}} u{\\left(x,t \\right)} + g \\frac{\\partial}{\\partial x} \\eta{\\left(x,t \\right)} + u{\\left(x,t \\right)} \\frac{\\partial}{\\partial x} u{\\left(x,t \\right)}$"
      ],
      "text/plain": [
       "-\\nu*Derivative(u(x, t), (x, 2)) + g*Derivative(\\eta(x, t), x) + u(x, t)*Derivative(u(x, t), x)"
      ]
     },
     "execution_count": 10,
     "metadata": {},
     "output_type": "execute_result"
    }
   ],
   "source": [
    "EQ1"
   ]
  },
  {
   "cell_type": "code",
   "execution_count": 11,
   "metadata": {},
   "outputs": [
    {
     "data": {
      "text/latex": [
       "$\\displaystyle \\theta \\left(\\frac{d}{d x} \\eta^{n+1}{\\left(x \\right)} \\frac{d^{2}}{d x^{2}} u^{n+1}{\\left(x \\right)} + \\frac{d^{2}}{d x^{2}} \\eta^{n+1}{\\left(x \\right)} \\frac{d}{d x} u^{n+1}{\\left(x \\right)} - \\frac{d}{d x} b{\\left(x \\right)} \\frac{d^{2}}{d x^{2}} u^{n+1}{\\left(x \\right)} - \\frac{d^{2}}{d x^{2}} b{\\left(x \\right)} \\frac{d}{d x} u^{n+1}{\\left(x \\right)}\\right) + \\left(1 - \\theta\\right) \\left(\\frac{d}{d x} \\eta^{n}{\\left(x \\right)} \\frac{d^{2}}{d x^{2}} u^{n}{\\left(x \\right)} + \\frac{d^{2}}{d x^{2}} \\eta^{n}{\\left(x \\right)} \\frac{d}{d x} u^{n}{\\left(x \\right)} - \\frac{d}{d x} b{\\left(x \\right)} \\frac{d^{2}}{d x^{2}} u^{n}{\\left(x \\right)} - \\frac{d^{2}}{d x^{2}} b{\\left(x \\right)} \\frac{d}{d x} u^{n}{\\left(x \\right)}\\right) - \\frac{\\eta^{n+1}{\\left(x \\right)} - \\eta^{n}{\\left(x \\right)}}{\\Delta_{t}}$"
      ],
      "text/plain": [
       "\\theta*(Derivative(\\eta^{n+1}(x), x)*Derivative(u^{n+1}(x), (x, 2)) + Derivative(\\eta^{n+1}(x), (x, 2))*Derivative(u^{n+1}(x), x) - Derivative(b(x), x)*Derivative(u^{n+1}(x), (x, 2)) - Derivative(b(x), (x, 2))*Derivative(u^{n+1}(x), x)) + (1 - \\theta)*(Derivative(\\eta^{n}(x), x)*Derivative(u^{n}(x), (x, 2)) + Derivative(\\eta^{n}(x), (x, 2))*Derivative(u^{n}(x), x) - Derivative(b(x), x)*Derivative(u^{n}(x), (x, 2)) - Derivative(b(x), (x, 2))*Derivative(u^{n}(x), x)) - (\\eta^{n+1}(x) - \\eta^{n}(x))/\\Delta_t"
      ]
     },
     "execution_count": 11,
     "metadata": {},
     "output_type": "execute_result"
    }
   ],
   "source": [
    "cn_EQ2"
   ]
  },
  {
   "cell_type": "code",
   "execution_count": 167,
   "metadata": {},
   "outputs": [],
   "source": [
    "phi = sp.Function(r'\\varphi')(x)\n",
    "psi = sp.Function(r'\\psi')(x)\n",
    "\n",
    "def multiply_terms(expr, k_func, j_func):\n",
    "    new_expr = 0\n",
    "    for term in expr.as_ordered_terms():\n",
    "        # Check for velocity terms\n",
    "        if any([term.has(u_1), term.has(u_0)]):\n",
    "            new_expr += k_func * term\n",
    "        # Check for pressure terms\n",
    "        elif any([term.has(eta_1), term.has(eta_0)]):\n",
    "            new_expr += j_func * term\n",
    "        else:\n",
    "            new_expr += term\n",
    "    return new_expr\n",
    "\n",
    "cn_EQ1_modified = multiply_terms(cn_EQ1.expand().doit(), phi, psi).expand().doit()\n",
    "cn_EQ2_modified = multiply_terms(cn_EQ2.expand().doit(), phi, psi).expand().doit()"
   ]
  },
  {
   "cell_type": "code",
   "execution_count": 168,
   "metadata": {},
   "outputs": [
    {
     "data": {
      "text/latex": [
       "$\\displaystyle - \\nu \\theta \\frac{d^{2}}{d x^{2}} u^{n+1}{\\left(x \\right)} + \\nu \\theta \\frac{d^{2}}{d x^{2}} u^{n}{\\left(x \\right)} - \\nu \\frac{d^{2}}{d x^{2}} u^{n}{\\left(x \\right)} + \\theta g \\frac{d}{d x} \\eta^{n+1}{\\left(x \\right)} - \\theta g \\frac{d}{d x} \\eta^{n}{\\left(x \\right)} + \\theta u^{n+1}{\\left(x \\right)} \\frac{d}{d x} u^{n+1}{\\left(x \\right)} - \\theta u^{n}{\\left(x \\right)} \\frac{d}{d x} u^{n}{\\left(x \\right)} + g \\frac{d}{d x} \\eta^{n}{\\left(x \\right)} + u^{n}{\\left(x \\right)} \\frac{d}{d x} u^{n}{\\left(x \\right)} - \\frac{u^{n+1}{\\left(x \\right)}}{\\Delta_{t}} + \\frac{u^{n}{\\left(x \\right)}}{\\Delta_{t}}$"
      ],
      "text/plain": [
       "-\\nu*\\theta*Derivative(u^{n+1}(x), (x, 2)) + \\nu*\\theta*Derivative(u^{n}(x), (x, 2)) - \\nu*Derivative(u^{n}(x), (x, 2)) + \\theta*g*Derivative(\\eta^{n+1}(x), x) - \\theta*g*Derivative(\\eta^{n}(x), x) + \\theta*u^{n+1}(x)*Derivative(u^{n+1}(x), x) - \\theta*u^{n}(x)*Derivative(u^{n}(x), x) + g*Derivative(\\eta^{n}(x), x) + u^{n}(x)*Derivative(u^{n}(x), x) - u^{n+1}(x)/\\Delta_t + u^{n}(x)/\\Delta_t"
      ]
     },
     "execution_count": 168,
     "metadata": {},
     "output_type": "execute_result"
    }
   ],
   "source": [
    "cn_EQ1.expand().doit()"
   ]
  },
  {
   "cell_type": "code",
   "execution_count": 175,
   "metadata": {},
   "outputs": [
    {
     "data": {
      "text/latex": [
       "$\\displaystyle \\theta \\varphi{\\left(x \\right)} \\frac{d}{d x} \\eta^{n+1}{\\left(x \\right)} \\frac{d^{2}}{d x^{2}} u^{n+1}{\\left(x \\right)} + \\theta \\varphi{\\left(x \\right)} \\frac{d^{2}}{d x^{2}} \\eta^{n+1}{\\left(x \\right)} \\frac{d}{d x} u^{n+1}{\\left(x \\right)} - \\theta \\varphi{\\left(x \\right)} \\frac{d}{d x} \\eta^{n}{\\left(x \\right)} \\frac{d^{2}}{d x^{2}} u^{n}{\\left(x \\right)} - \\theta \\varphi{\\left(x \\right)} \\frac{d^{2}}{d x^{2}} \\eta^{n}{\\left(x \\right)} \\frac{d}{d x} u^{n}{\\left(x \\right)} - \\theta \\varphi{\\left(x \\right)} \\frac{d}{d x} b{\\left(x \\right)} \\frac{d^{2}}{d x^{2}} u^{n+1}{\\left(x \\right)} + \\theta \\varphi{\\left(x \\right)} \\frac{d}{d x} b{\\left(x \\right)} \\frac{d^{2}}{d x^{2}} u^{n}{\\left(x \\right)} - \\theta \\varphi{\\left(x \\right)} \\frac{d^{2}}{d x^{2}} b{\\left(x \\right)} \\frac{d}{d x} u^{n+1}{\\left(x \\right)} + \\theta \\varphi{\\left(x \\right)} \\frac{d^{2}}{d x^{2}} b{\\left(x \\right)} \\frac{d}{d x} u^{n}{\\left(x \\right)} + \\varphi{\\left(x \\right)} \\frac{d}{d x} \\eta^{n}{\\left(x \\right)} \\frac{d^{2}}{d x^{2}} u^{n}{\\left(x \\right)} + \\varphi{\\left(x \\right)} \\frac{d^{2}}{d x^{2}} \\eta^{n}{\\left(x \\right)} \\frac{d}{d x} u^{n}{\\left(x \\right)} - \\varphi{\\left(x \\right)} \\frac{d}{d x} b{\\left(x \\right)} \\frac{d^{2}}{d x^{2}} u^{n}{\\left(x \\right)} - \\varphi{\\left(x \\right)} \\frac{d^{2}}{d x^{2}} b{\\left(x \\right)} \\frac{d}{d x} u^{n}{\\left(x \\right)} - \\frac{\\eta^{n+1}{\\left(x \\right)} \\psi{\\left(x \\right)}}{\\Delta_{t}} + \\frac{\\eta^{n}{\\left(x \\right)} \\psi{\\left(x \\right)}}{\\Delta_{t}}$"
      ],
      "text/plain": [
       "\\theta*\\varphi(x)*Derivative(\\eta^{n+1}(x), x)*Derivative(u^{n+1}(x), (x, 2)) + \\theta*\\varphi(x)*Derivative(\\eta^{n+1}(x), (x, 2))*Derivative(u^{n+1}(x), x) - \\theta*\\varphi(x)*Derivative(\\eta^{n}(x), x)*Derivative(u^{n}(x), (x, 2)) - \\theta*\\varphi(x)*Derivative(\\eta^{n}(x), (x, 2))*Derivative(u^{n}(x), x) - \\theta*\\varphi(x)*Derivative(b(x), x)*Derivative(u^{n+1}(x), (x, 2)) + \\theta*\\varphi(x)*Derivative(b(x), x)*Derivative(u^{n}(x), (x, 2)) - \\theta*\\varphi(x)*Derivative(b(x), (x, 2))*Derivative(u^{n+1}(x), x) + \\theta*\\varphi(x)*Derivative(b(x), (x, 2))*Derivative(u^{n}(x), x) + \\varphi(x)*Derivative(\\eta^{n}(x), x)*Derivative(u^{n}(x), (x, 2)) + \\varphi(x)*Derivative(\\eta^{n}(x), (x, 2))*Derivative(u^{n}(x), x) - \\varphi(x)*Derivative(b(x), x)*Derivative(u^{n}(x), (x, 2)) - \\varphi(x)*Derivative(b(x), (x, 2))*Derivative(u^{n}(x), x) - \\eta^{n+1}(x)*\\psi(x)/\\Delta_t + \\eta^{n}(x)*\\psi(x)/\\Delta_t"
      ]
     },
     "execution_count": 175,
     "metadata": {},
     "output_type": "execute_result"
    }
   ],
   "source": [
    "cn_EQ2_modified"
   ]
  },
  {
   "cell_type": "code",
   "execution_count": 181,
   "metadata": {},
   "outputs": [
    {
     "data": {
      "text/latex": [
       "$\\displaystyle \\psi{\\left(x \\right)} \\frac{d^{2}}{d x^{2}} \\eta^{n+1}{\\left(x \\right)}$"
      ],
      "text/plain": [
       "\\psi(x)*Derivative(\\eta^{n+1}(x), (x, 2))"
      ]
     },
     "execution_count": 181,
     "metadata": {},
     "output_type": "execute_result"
    }
   ],
   "source": [
    "sp.diff(eta_1,x,2)*psi"
   ]
  },
  {
   "cell_type": "code",
   "execution_count": 170,
   "metadata": {},
   "outputs": [],
   "source": [
    "n = sp.Function(r'n')(x)\n",
    "\n",
    "greened_EQ1 = cn_EQ1_modified.subs([(sp.diff(u_0,x,2)*phi, sp.diff(u_0,x,1)*phi*n -sp.diff(u_0,x,1)*sp.diff(phi,x,1)),\n",
    "                      (sp.diff(u_1,x,2)*phi, sp.diff(u_1,x,1)*phi*n -sp.diff(u_1,x,1)*sp.diff(phi,x,1)),\n",
    "                      (sp.diff(eta_0,x,2)*psi, sp.diff(eta_0,x,1)*psi*n -sp.diff(eta_0,x,1)*sp.diff(psi,x,1)),\n",
    "                      (sp.diff(eta_1,x,2)*psi, sp.diff(eta_1,x,1)*psi*n -sp.diff(eta_1,x,1)*sp.diff(psi,x,1))\n",
    "                      ]).expand().doit()\n",
    "\n",
    "greened_EQ2 = cn_EQ2_modified.subs([(sp.diff(u_0,x,2)*phi, sp.diff(u_0,x,1)*phi*n -sp.diff(u_0,x,1)*sp.diff(phi,x,1)),\n",
    "                      (sp.diff(u_1,x,2)*phi, sp.diff(u_1,x,1)*phi*n -sp.diff(u_1,x,1)*sp.diff(phi,x,1)),\n",
    "                      (sp.diff(eta_0,x,2)*psi, sp.diff(eta_0,x,1)*psi*n -sp.diff(eta_0,x,1)*sp.diff(psi,x,1)),\n",
    "                      (sp.diff(eta_1,x,2)*psi, sp.diff(eta_1,x,1)*psi*n -sp.diff(eta_1,x,1)*sp.diff(psi,x,1))\n",
    "                      ]).expand().doit()"
   ]
  },
  {
   "cell_type": "code",
   "execution_count": 171,
   "metadata": {},
   "outputs": [
    {
     "data": {
      "text/latex": [
       "$\\displaystyle - \\nu \\theta \\frac{d^{2}}{d x^{2}} u^{n+1}{\\left(x \\right)} + \\nu \\theta \\frac{d^{2}}{d x^{2}} u^{n}{\\left(x \\right)} - \\nu \\frac{d^{2}}{d x^{2}} u^{n}{\\left(x \\right)} + \\theta g \\frac{d}{d x} \\eta^{n+1}{\\left(x \\right)} - \\theta g \\frac{d}{d x} \\eta^{n}{\\left(x \\right)} + \\theta u^{n+1}{\\left(x \\right)} \\frac{d}{d x} u^{n+1}{\\left(x \\right)} - \\theta u^{n}{\\left(x \\right)} \\frac{d}{d x} u^{n}{\\left(x \\right)} + g \\frac{d}{d x} \\eta^{n}{\\left(x \\right)} + u^{n}{\\left(x \\right)} \\frac{d}{d x} u^{n}{\\left(x \\right)} - \\frac{u^{n+1}{\\left(x \\right)}}{\\Delta_{t}} + \\frac{u^{n}{\\left(x \\right)}}{\\Delta_{t}}$"
      ],
      "text/plain": [
       "-\\nu*\\theta*Derivative(u^{n+1}(x), (x, 2)) + \\nu*\\theta*Derivative(u^{n}(x), (x, 2)) - \\nu*Derivative(u^{n}(x), (x, 2)) + \\theta*g*Derivative(\\eta^{n+1}(x), x) - \\theta*g*Derivative(\\eta^{n}(x), x) + \\theta*u^{n+1}(x)*Derivative(u^{n+1}(x), x) - \\theta*u^{n}(x)*Derivative(u^{n}(x), x) + g*Derivative(\\eta^{n}(x), x) + u^{n}(x)*Derivative(u^{n}(x), x) - u^{n+1}(x)/\\Delta_t + u^{n}(x)/\\Delta_t"
      ]
     },
     "execution_count": 171,
     "metadata": {},
     "output_type": "execute_result"
    }
   ],
   "source": [
    "cn_EQ1.expand().doit()"
   ]
  },
  {
   "cell_type": "code",
   "execution_count": 172,
   "metadata": {},
   "outputs": [
    {
     "data": {
      "text/latex": [
       "$\\displaystyle - \\nu \\theta \\varphi{\\left(x \\right)} n{\\left(x \\right)} \\frac{d}{d x} u^{n+1}{\\left(x \\right)} + \\nu \\theta \\varphi{\\left(x \\right)} n{\\left(x \\right)} \\frac{d}{d x} u^{n}{\\left(x \\right)} + \\nu \\theta \\frac{d}{d x} \\varphi{\\left(x \\right)} \\frac{d}{d x} u^{n+1}{\\left(x \\right)} - \\nu \\theta \\frac{d}{d x} \\varphi{\\left(x \\right)} \\frac{d}{d x} u^{n}{\\left(x \\right)} - \\nu \\varphi{\\left(x \\right)} n{\\left(x \\right)} \\frac{d}{d x} u^{n}{\\left(x \\right)} + \\nu \\frac{d}{d x} \\varphi{\\left(x \\right)} \\frac{d}{d x} u^{n}{\\left(x \\right)} + \\theta g \\psi{\\left(x \\right)} \\frac{d}{d x} \\eta^{n+1}{\\left(x \\right)} - \\theta g \\psi{\\left(x \\right)} \\frac{d}{d x} \\eta^{n}{\\left(x \\right)} + \\theta \\varphi{\\left(x \\right)} u^{n+1}{\\left(x \\right)} \\frac{d}{d x} u^{n+1}{\\left(x \\right)} - \\theta \\varphi{\\left(x \\right)} u^{n}{\\left(x \\right)} \\frac{d}{d x} u^{n}{\\left(x \\right)} + g \\psi{\\left(x \\right)} \\frac{d}{d x} \\eta^{n}{\\left(x \\right)} + \\varphi{\\left(x \\right)} u^{n}{\\left(x \\right)} \\frac{d}{d x} u^{n}{\\left(x \\right)} - \\frac{\\varphi{\\left(x \\right)} u^{n+1}{\\left(x \\right)}}{\\Delta_{t}} + \\frac{\\varphi{\\left(x \\right)} u^{n}{\\left(x \\right)}}{\\Delta_{t}}$"
      ],
      "text/plain": [
       "-\\nu*\\theta*\\varphi(x)*n(x)*Derivative(u^{n+1}(x), x) + \\nu*\\theta*\\varphi(x)*n(x)*Derivative(u^{n}(x), x) + \\nu*\\theta*Derivative(\\varphi(x), x)*Derivative(u^{n+1}(x), x) - \\nu*\\theta*Derivative(\\varphi(x), x)*Derivative(u^{n}(x), x) - \\nu*\\varphi(x)*n(x)*Derivative(u^{n}(x), x) + \\nu*Derivative(\\varphi(x), x)*Derivative(u^{n}(x), x) + \\theta*g*\\psi(x)*Derivative(\\eta^{n+1}(x), x) - \\theta*g*\\psi(x)*Derivative(\\eta^{n}(x), x) + \\theta*\\varphi(x)*u^{n+1}(x)*Derivative(u^{n+1}(x), x) - \\theta*\\varphi(x)*u^{n}(x)*Derivative(u^{n}(x), x) + g*\\psi(x)*Derivative(\\eta^{n}(x), x) + \\varphi(x)*u^{n}(x)*Derivative(u^{n}(x), x) - \\varphi(x)*u^{n+1}(x)/\\Delta_t + \\varphi(x)*u^{n}(x)/\\Delta_t"
      ]
     },
     "execution_count": 172,
     "metadata": {},
     "output_type": "execute_result"
    }
   ],
   "source": [
    "greened_EQ1"
   ]
  },
  {
   "cell_type": "code",
   "execution_count": 173,
   "metadata": {},
   "outputs": [
    {
     "data": {
      "text/latex": [
       "$\\displaystyle \\theta \\varphi{\\left(x \\right)} n{\\left(x \\right)} \\frac{d}{d x} \\eta^{n+1}{\\left(x \\right)} \\frac{d}{d x} u^{n+1}{\\left(x \\right)} - \\theta \\varphi{\\left(x \\right)} n{\\left(x \\right)} \\frac{d}{d x} \\eta^{n}{\\left(x \\right)} \\frac{d}{d x} u^{n}{\\left(x \\right)} - \\theta \\varphi{\\left(x \\right)} n{\\left(x \\right)} \\frac{d}{d x} b{\\left(x \\right)} \\frac{d}{d x} u^{n+1}{\\left(x \\right)} + \\theta \\varphi{\\left(x \\right)} n{\\left(x \\right)} \\frac{d}{d x} b{\\left(x \\right)} \\frac{d}{d x} u^{n}{\\left(x \\right)} + \\theta \\varphi{\\left(x \\right)} \\frac{d^{2}}{d x^{2}} \\eta^{n+1}{\\left(x \\right)} \\frac{d}{d x} u^{n+1}{\\left(x \\right)} - \\theta \\varphi{\\left(x \\right)} \\frac{d^{2}}{d x^{2}} \\eta^{n}{\\left(x \\right)} \\frac{d}{d x} u^{n}{\\left(x \\right)} - \\theta \\varphi{\\left(x \\right)} \\frac{d^{2}}{d x^{2}} b{\\left(x \\right)} \\frac{d}{d x} u^{n+1}{\\left(x \\right)} + \\theta \\varphi{\\left(x \\right)} \\frac{d^{2}}{d x^{2}} b{\\left(x \\right)} \\frac{d}{d x} u^{n}{\\left(x \\right)} - \\theta \\frac{d}{d x} \\eta^{n+1}{\\left(x \\right)} \\frac{d}{d x} \\varphi{\\left(x \\right)} \\frac{d}{d x} u^{n+1}{\\left(x \\right)} + \\theta \\frac{d}{d x} \\eta^{n}{\\left(x \\right)} \\frac{d}{d x} \\varphi{\\left(x \\right)} \\frac{d}{d x} u^{n}{\\left(x \\right)} + \\theta \\frac{d}{d x} \\varphi{\\left(x \\right)} \\frac{d}{d x} b{\\left(x \\right)} \\frac{d}{d x} u^{n+1}{\\left(x \\right)} - \\theta \\frac{d}{d x} \\varphi{\\left(x \\right)} \\frac{d}{d x} b{\\left(x \\right)} \\frac{d}{d x} u^{n}{\\left(x \\right)} + \\varphi{\\left(x \\right)} n{\\left(x \\right)} \\frac{d}{d x} \\eta^{n}{\\left(x \\right)} \\frac{d}{d x} u^{n}{\\left(x \\right)} - \\varphi{\\left(x \\right)} n{\\left(x \\right)} \\frac{d}{d x} b{\\left(x \\right)} \\frac{d}{d x} u^{n}{\\left(x \\right)} + \\varphi{\\left(x \\right)} \\frac{d^{2}}{d x^{2}} \\eta^{n}{\\left(x \\right)} \\frac{d}{d x} u^{n}{\\left(x \\right)} - \\varphi{\\left(x \\right)} \\frac{d^{2}}{d x^{2}} b{\\left(x \\right)} \\frac{d}{d x} u^{n}{\\left(x \\right)} - \\frac{d}{d x} \\eta^{n}{\\left(x \\right)} \\frac{d}{d x} \\varphi{\\left(x \\right)} \\frac{d}{d x} u^{n}{\\left(x \\right)} + \\frac{d}{d x} \\varphi{\\left(x \\right)} \\frac{d}{d x} b{\\left(x \\right)} \\frac{d}{d x} u^{n}{\\left(x \\right)} - \\frac{\\eta^{n+1}{\\left(x \\right)} \\psi{\\left(x \\right)}}{\\Delta_{t}} + \\frac{\\eta^{n}{\\left(x \\right)} \\psi{\\left(x \\right)}}{\\Delta_{t}}$"
      ],
      "text/plain": [
       "\\theta*\\varphi(x)*n(x)*Derivative(\\eta^{n+1}(x), x)*Derivative(u^{n+1}(x), x) - \\theta*\\varphi(x)*n(x)*Derivative(\\eta^{n}(x), x)*Derivative(u^{n}(x), x) - \\theta*\\varphi(x)*n(x)*Derivative(b(x), x)*Derivative(u^{n+1}(x), x) + \\theta*\\varphi(x)*n(x)*Derivative(b(x), x)*Derivative(u^{n}(x), x) + \\theta*\\varphi(x)*Derivative(\\eta^{n+1}(x), (x, 2))*Derivative(u^{n+1}(x), x) - \\theta*\\varphi(x)*Derivative(\\eta^{n}(x), (x, 2))*Derivative(u^{n}(x), x) - \\theta*\\varphi(x)*Derivative(b(x), (x, 2))*Derivative(u^{n+1}(x), x) + \\theta*\\varphi(x)*Derivative(b(x), (x, 2))*Derivative(u^{n}(x), x) - \\theta*Derivative(\\eta^{n+1}(x), x)*Derivative(\\varphi(x), x)*Derivative(u^{n+1}(x), x) + \\theta*Derivative(\\eta^{n}(x), x)*Derivative(\\varphi(x), x)*Derivative(u^{n}(x), x) + \\theta*Derivative(\\varphi(x), x)*Derivative(b(x), x)*Derivative(u^{n+1}(x), x) - \\theta*Derivative(\\varphi(x), x)*Derivative(b(x), x)*Derivative(u^{n}(x), x) + \\varphi(x)*n(x)*Derivative(\\eta^{n}(x), x)*Derivative(u^{n}(x), x) - \\varphi(x)*n(x)*Derivative(b(x), x)*Derivative(u^{n}(x), x) + \\varphi(x)*Derivative(\\eta^{n}(x), (x, 2))*Derivative(u^{n}(x), x) - \\varphi(x)*Derivative(b(x), (x, 2))*Derivative(u^{n}(x), x) - Derivative(\\eta^{n}(x), x)*Derivative(\\varphi(x), x)*Derivative(u^{n}(x), x) + Derivative(\\varphi(x), x)*Derivative(b(x), x)*Derivative(u^{n}(x), x) - \\eta^{n+1}(x)*\\psi(x)/\\Delta_t + \\eta^{n}(x)*\\psi(x)/\\Delta_t"
      ]
     },
     "execution_count": 173,
     "metadata": {},
     "output_type": "execute_result"
    }
   ],
   "source": [
    "greened_EQ2"
   ]
  },
  {
   "cell_type": "code",
   "execution_count": 36,
   "metadata": {},
   "outputs": [],
   "source": [
    "u_hat = sp.Function(r'\\hat{u}')(x)\n",
    "eta_hat = sp.Function(r'\\hat{\\eta}')(x)\n",
    "\n",
    "epsilon = sp.symbols(r'\\epsilon')\n",
    "\n",
    "u_perturbed = u_1 + epsilon*u_hat\n",
    "eta_perturbed = eta_1 + epsilon*eta_hat\n",
    "\n",
    "u_perturbed_x = sp.diff(u_perturbed, x)\n",
    "\n",
    "v_perturbed_x = sp.diff(eta_perturbed, x)\n",
    "\n",
    "\n",
    "J11 = greened_EQ1.subs([(u_1, u_perturbed), (sp.diff(u,x,1), u_perturbed_x)])\n",
    "J12 = greened_EQ1.subs([(eta_1, eta_perturbed), (sp.diff(eta,x,1), v_perturbed_x)])\n",
    "\n",
    "J21 = greened_EQ2.subs([(u_1, u_perturbed), (sp.diff(u,x,1), u_perturbed_x)])\n",
    "J22 = greened_EQ2.subs([(eta_1, eta_perturbed), (sp.diff(eta,x,1), v_perturbed_x)])\n",
    "\n",
    "J11_lim = sp.limit((J11 - greened_EQ1) / epsilon, epsilon, 0)\n",
    "J12_lim = sp.limit((J12 - greened_EQ1) / epsilon, epsilon, 0)\n",
    "\n",
    "J21_lim = sp.limit((J21 - greened_EQ2) / epsilon, epsilon, 0)\n",
    "J22_lim = sp.limit((J22 - greened_EQ2) / epsilon, epsilon, 0)\n"
   ]
  },
  {
   "cell_type": "code",
   "execution_count": 37,
   "metadata": {},
   "outputs": [
    {
     "data": {
      "text/latex": [
       "$\\displaystyle \\frac{- \\Delta_{t} \\nu \\theta \\varphi{\\left(x \\right)} n{\\left(x \\right)} \\frac{d}{d x} \\hat{u}{\\left(x \\right)} + \\Delta_{t} \\nu \\theta \\frac{d}{d x} \\hat{u}{\\left(x \\right)} \\frac{d}{d x} \\varphi{\\left(x \\right)} + \\Delta_{t} \\theta \\hat{u}{\\left(x \\right)} \\varphi{\\left(x \\right)} \\frac{d}{d x} u^{n+1}{\\left(x \\right)} + \\Delta_{t} \\theta \\varphi{\\left(x \\right)} u^{n+1}{\\left(x \\right)} \\frac{d}{d x} \\hat{u}{\\left(x \\right)} - \\hat{u}{\\left(x \\right)} \\varphi{\\left(x \\right)}}{\\Delta_{t}}$"
      ],
      "text/plain": [
       "(-\\Delta_t*\\nu*\\theta*\\varphi(x)*n(x)*Derivative(\\hat{u}(x), x) + \\Delta_t*\\nu*\\theta*Derivative(\\hat{u}(x), x)*Derivative(\\varphi(x), x) + \\Delta_t*\\theta*\\hat{u}(x)*\\varphi(x)*Derivative(u^{n+1}(x), x) + \\Delta_t*\\theta*\\varphi(x)*u^{n+1}(x)*Derivative(\\hat{u}(x), x) - \\hat{u}(x)*\\varphi(x))/\\Delta_t"
      ]
     },
     "execution_count": 37,
     "metadata": {},
     "output_type": "execute_result"
    }
   ],
   "source": [
    "J11_lim"
   ]
  },
  {
   "cell_type": "code",
   "execution_count": 87,
   "metadata": {},
   "outputs": [],
   "source": [
    "equation = greened_EQ1\n",
    "\n",
    "S = sp.symbols('S')   # Boundary differential\n",
    "\n",
    "integrand_domain1 = sum(\n",
    "    sp.Integral(term, x)  # Domain integral with differential dx\n",
    "    for term in equation.args\n",
    "    if not term.has(n)  # Exclude terms involving n\n",
    ")\n",
    "\n",
    "# Boundary integrals (terms involving n)\n",
    "integrand_boundary1 = sum(\n",
    "    sp.Integral(term, S)  # Boundary integral with differential dS\n",
    "    for term in equation.args\n",
    "    if term.has(n)\n",
    ")\n",
    "\n",
    "# The final weak form with symbolic integrals\n",
    "final_expression1 = integrand_domain1 + integrand_boundary1\n",
    "\n",
    "equation = greened_EQ2\n",
    "\n",
    "S = sp.symbols('S')   # Boundary differential\n",
    "\n",
    "integrand_domain2 = sum(\n",
    "    sp.Integral(term, x)  # Domain integral with differential dx\n",
    "    for term in equation.args\n",
    "    if not term.has(n)  # Exclude terms involving n\n",
    ")\n",
    "\n",
    "# Boundary integrals (terms involving n)\n",
    "integrand_boundary2 = sum(\n",
    "    sp.Integral(term, S)  # Boundary integral with differential dS\n",
    "    for term in equation.args\n",
    "    if term.has(n)\n",
    ")\n",
    "\n",
    "# The final weak form with symbolic integrals\n",
    "final_expression2 = integrand_domain2 + integrand_boundary2"
   ]
  },
  {
   "cell_type": "code",
   "execution_count": 96,
   "metadata": {},
   "outputs": [
    {
     "data": {
      "text/latex": [
       "$\\displaystyle \\nu \\theta \\int \\frac{d}{d x} \\varphi{\\left(x \\right)} \\frac{d}{d x} u^{n+1}{\\left(x \\right)}\\, dx - \\nu \\theta \\int \\frac{d}{d x} \\varphi{\\left(x \\right)} \\frac{d}{d x} u^{n}{\\left(x \\right)}\\, dx + \\nu \\int \\frac{d}{d x} \\varphi{\\left(x \\right)} \\frac{d}{d x} u^{n}{\\left(x \\right)}\\, dx + \\theta g \\int \\psi{\\left(x \\right)} \\frac{d}{d x} \\eta^{n+1}{\\left(x \\right)}\\, dx - \\theta g \\int \\psi{\\left(x \\right)} \\frac{d}{d x} \\eta^{n}{\\left(x \\right)}\\, dx + \\theta \\int \\varphi{\\left(x \\right)} u^{n+1}{\\left(x \\right)} \\frac{d}{d x} u^{n+1}{\\left(x \\right)}\\, dx - \\theta \\int \\varphi{\\left(x \\right)} u^{n}{\\left(x \\right)} \\frac{d}{d x} u^{n}{\\left(x \\right)}\\, dx + g \\int \\psi{\\left(x \\right)} \\frac{d}{d x} \\eta^{n}{\\left(x \\right)}\\, dx + \\int \\varphi{\\left(x \\right)} u^{n}{\\left(x \\right)} \\frac{d}{d x} u^{n}{\\left(x \\right)}\\, dx - \\frac{\\int \\varphi{\\left(x \\right)} u^{n+1}{\\left(x \\right)}\\, dx}{\\Delta_{t}} + \\frac{\\int \\varphi{\\left(x \\right)} u^{n}{\\left(x \\right)}\\, dx}{\\Delta_{t}}$"
      ],
      "text/plain": [
       "\\nu*\\theta*Integral(Derivative(\\varphi(x), x)*Derivative(u^{n+1}(x), x), x) - \\nu*\\theta*Integral(Derivative(\\varphi(x), x)*Derivative(u^{n}(x), x), x) + \\nu*Integral(Derivative(\\varphi(x), x)*Derivative(u^{n}(x), x), x) + \\theta*g*Integral(\\psi(x)*Derivative(\\eta^{n+1}(x), x), x) - \\theta*g*Integral(\\psi(x)*Derivative(\\eta^{n}(x), x), x) + \\theta*Integral(\\varphi(x)*u^{n+1}(x)*Derivative(u^{n+1}(x), x), x) - \\theta*Integral(\\varphi(x)*u^{n}(x)*Derivative(u^{n}(x), x), x) + g*Integral(\\psi(x)*Derivative(\\eta^{n}(x), x), x) + Integral(\\varphi(x)*u^{n}(x)*Derivative(u^{n}(x), x), x) - Integral(\\varphi(x)*u^{n+1}(x), x)/\\Delta_t + Integral(\\varphi(x)*u^{n}(x), x)/\\Delta_t"
      ]
     },
     "execution_count": 96,
     "metadata": {},
     "output_type": "execute_result"
    }
   ],
   "source": [
    "sp.collect(integrand_domain1, [phi, psi]).doit()"
   ]
  },
  {
   "cell_type": "code",
   "execution_count": 86,
   "metadata": {},
   "outputs": [
    {
     "name": "stdout",
     "output_type": "stream",
     "text": [
      "[0, 0, 1, 0, 1]\n",
      "[0, 0, 1, 0, 1]\n",
      "[1, 0, 1, 0, 1]\n",
      "[0, 0, 1, 0, 0]\n",
      "[0, 0, 1, 0, 0]\n",
      "[0, 0, 1, 0, 1]\n",
      "[0, 0, 1, 0, 1]\n",
      "[0, 1, 0, 0, 0]\n",
      "[0, 1, 0, 0, 0]\n",
      "[0, 1, 0, 1, 0]\n",
      "[0, 1, 0, 1, 0]\n",
      "[1, 1, 0, 1, 0]\n",
      "[0, 1, 0, 1, 0]\n",
      "[0, 1, 0, 1, 0]\n",
      "[0, 0, 1, 0, 1]\n",
      "[0, 0, 1, 0, 1]\n",
      "[1, 0, 1, 0, 1]\n",
      "[0, 0, 1, 0, 1]\n",
      "[0, 0, 1, 0, 1]\n"
     ]
    }
   ],
   "source": [
    "mat_exp_1 = 0\n",
    "term_count = 0\n",
    "n_u = sp.symbols(r'n_u')\n",
    "n_eta = sp.symbols(r'n_eta')\n",
    "M = sp.MatrixSymbol(r'\\mathbf{M}', n_u, n_u)\n",
    "A = sp.MatrixSymbol(r'\\mathbf{A}', n_eta, n_eta)\n",
    "u_1_vec = sp.Symbol(r'\\mathbf{u}^{n+1}')\n",
    "u_0_vec = sp.Symbol(r'\\mathbf{u}^{n}')\n",
    "eta_1_vec = sp.Symbol(r'\\mathbf{\\eta}^{n+1}')\n",
    "eta_0_vec = sp.Symbol(r'\\mathbf{\\eta}^{n}')\n",
    "\n",
    "for term in integrand_domain.args:\n",
    "    term_check = []\n",
    "    if term.has(phi):\n",
    "        # print(term)\n",
    "        term_check.append(0)\n",
    "        subterm_count = 0\n",
    "        term_count += 1\n",
    "        u_1_check = term_check.append(int(term.has(u_1)))\n",
    "        u_0_check = term_check.append(int(term.has(u_0)))\n",
    "        diff_u_1_check = term_check.append(int(term.has(sp.diff(u_1,x))))\n",
    "        diff_u_0_check = term_check.append(int(term.has(sp.diff(u_0,x))))\n",
    "        print(term_check)\n",
    "        # for subterm in term.atoms(sp.Derivative):\n",
    "        #     # print(subterm)\n",
    "        #     subterm_count += 1\n",
    "        # print(f'Term {term_count} has a phi and a u_1: {u_1_check}, or u_0: {u_0_check}, and has {subterm_count} derivative terms.')\n",
    "    elif term.has(psi):\n",
    "        # print(term)\n",
    "        term_check.append(1)\n",
    "        subterm_count = 0\n",
    "        term_count += 1\n",
    "        eta_1_check = term_check.append(int(term.has(eta_1)))\n",
    "        eta_0_check = term_check.append(int(term.has(eta_0)))\n",
    "        diff_eta_1_check = term_check.append(int(term.has(sp.diff(eta_1,x))))\n",
    "        diff_eta_0_check = term_check.append(int(term.has(sp.diff(eta_0,x))))\n",
    "        # for subterm in term.atoms(sp.Derivative):\n",
    "        #     # print(subterm)\n",
    "        #     subterm_count += 1\n",
    "        # print(f'Term {term_count} has a psi and a eta_1: {u_1_check}, or eta_0: {u_0_check}, and has {subterm_count} derivative terms.')\n",
    "    print(term_check)\n",
    "    \n",
    "    "
   ]
  },
  {
   "cell_type": "code",
   "execution_count": 126,
   "metadata": {},
   "outputs": [],
   "source": [
    "horizontal_cell_count = 500\n",
    "space_start = 0\n",
    "space_end = 10000\n",
    "xs = np.linspace(space_start, space_end, horizontal_cell_count)\n",
    "\n",
    "u_mesh = fem.MeshLine(xs)\n",
    "element1 = fem.ElementLineP2()\n",
    "element2 = fem.ElementLineP1()\n",
    "\n",
    "basis_u = fem.Basis(u_mesh, element1)\n",
    "basis_eta = fem.Basis(u_mesh, element2)\n",
    "\n",
    "u_coords = basis_u.doflocs[0].T\n",
    "eta_coords = basis_eta.doflocs[0].T\n",
    "\n",
    "u_b1 = np.where(u_coords == space_start)[0][0]\n",
    "u_b2 = np.where(u_coords == space_end)[0][0]\n",
    "eta_b1 = np.where(eta_coords == space_start)[0][0]\n",
    "eta_b2 = np.where(eta_coords == space_end)[0][0]"
   ]
  },
  {
   "cell_type": "code",
   "execution_count": 159,
   "metadata": {},
   "outputs": [],
   "source": [
    "nu = .1\n",
    "g = -9.8\n",
    "h_bar = 30\n",
    "s = 2000\n",
    "\n",
    "def b_func(x, s):\n",
    "    return 5*(1+np.tanh((x - s)/2000))\n",
    "\n",
    "def tau_func(t):\n",
    "    return 2*(1+np.cos((4*np.pi*t)/(86400)))\n",
    "\n",
    "t = 0\n",
    "theta = 0.6\n",
    "dt = 1 \n",
    "t_end = 12*60*60. \n",
    "time_range = np.linspace(0, t_end, int(t_end // dt)+1)\n",
    "time_steps = len(time_range)\n",
    "\n",
    "u_fields = np.zeros((time_steps, len(u_coords)))\n",
    "eta_fields = np.zeros((time_steps, len(eta_coords)))\n",
    "\n",
    "eta_fields[:, 0] = tau_func(time_range)"
   ]
  },
  {
   "cell_type": "code",
   "execution_count": 160,
   "metadata": {},
   "outputs": [
    {
     "data": {
      "text/plain": [
       "array([[4.        , 0.        , 0.        , ..., 0.        , 0.        ,\n",
       "        0.        ],\n",
       "       [3.99999998, 0.        , 0.        , ..., 0.        , 0.        ,\n",
       "        0.        ],\n",
       "       [3.99999992, 0.        , 0.        , ..., 0.        , 0.        ,\n",
       "        0.        ],\n",
       "       ...,\n",
       "       [3.99999992, 0.        , 0.        , ..., 0.        , 0.        ,\n",
       "        0.        ],\n",
       "       [3.99999998, 0.        , 0.        , ..., 0.        , 0.        ,\n",
       "        0.        ],\n",
       "       [4.        , 0.        , 0.        , ..., 0.        , 0.        ,\n",
       "        0.        ]])"
      ]
     },
     "execution_count": 160,
     "metadata": {},
     "output_type": "execute_result"
    }
   ],
   "source": [
    "@fem.LinearForm\n",
    "def F_1_1(v,w):\n",
    "    C1 = v*(theta*w.u_1*grad(w.u_1)[0] - theta*w.u_0*grad(w.u_0)[0] + w.u_0*grad(w.u_0)[0] - (1/dt)*(w.u_1 - w.u_0))\n",
    "    C2 = grad(v)[0]*(nu*theta*w.u_1[0] - nu*theta*grad(w.u_0)[0] + nu*grad(w.u_0)[0])\n",
    "    return C1 + C2\n",
    "\n",
    "@fem.LinearForm\n",
    "def F_1_2(v,w):\n",
    "    return v*(theta*g*grad(w.eta_1)[0] - theta*g*grad(w.eta_0)[0] + g*grad(w.eta_0)[0])\n",
    "\n",
    "@fem.LinearForm\n",
    "def F_2_1(v,w):\n",
    "    C1 = v*()\n"
   ]
  },
  {
   "cell_type": "code",
   "execution_count": 174,
   "metadata": {},
   "outputs": [
    {
     "data": {
      "text/latex": [
       "$\\displaystyle \\left(- \\frac{\\eta^{n+1}{\\left(x \\right)}}{\\Delta_{t}} + \\frac{\\eta^{n}{\\left(x \\right)}}{\\Delta_{t}}\\right) \\psi{\\left(x \\right)} + \\left(- \\theta \\frac{d}{d x} \\eta^{n+1}{\\left(x \\right)} \\frac{d}{d x} u^{n+1}{\\left(x \\right)} + \\theta \\frac{d}{d x} \\eta^{n}{\\left(x \\right)} \\frac{d}{d x} u^{n}{\\left(x \\right)} + \\theta \\frac{d}{d x} b{\\left(x \\right)} \\frac{d}{d x} u^{n+1}{\\left(x \\right)} - \\theta \\frac{d}{d x} b{\\left(x \\right)} \\frac{d}{d x} u^{n}{\\left(x \\right)} - \\frac{d}{d x} \\eta^{n}{\\left(x \\right)} \\frac{d}{d x} u^{n}{\\left(x \\right)} + \\frac{d}{d x} b{\\left(x \\right)} \\frac{d}{d x} u^{n}{\\left(x \\right)}\\right) \\frac{d}{d x} \\varphi{\\left(x \\right)} + \\left(\\theta n{\\left(x \\right)} \\frac{d}{d x} \\eta^{n+1}{\\left(x \\right)} \\frac{d}{d x} u^{n+1}{\\left(x \\right)} - \\theta n{\\left(x \\right)} \\frac{d}{d x} \\eta^{n}{\\left(x \\right)} \\frac{d}{d x} u^{n}{\\left(x \\right)} - \\theta n{\\left(x \\right)} \\frac{d}{d x} b{\\left(x \\right)} \\frac{d}{d x} u^{n+1}{\\left(x \\right)} + \\theta n{\\left(x \\right)} \\frac{d}{d x} b{\\left(x \\right)} \\frac{d}{d x} u^{n}{\\left(x \\right)} + \\theta \\frac{d^{2}}{d x^{2}} \\eta^{n+1}{\\left(x \\right)} \\frac{d}{d x} u^{n+1}{\\left(x \\right)} - \\theta \\frac{d^{2}}{d x^{2}} \\eta^{n}{\\left(x \\right)} \\frac{d}{d x} u^{n}{\\left(x \\right)} - \\theta \\frac{d^{2}}{d x^{2}} b{\\left(x \\right)} \\frac{d}{d x} u^{n+1}{\\left(x \\right)} + \\theta \\frac{d^{2}}{d x^{2}} b{\\left(x \\right)} \\frac{d}{d x} u^{n}{\\left(x \\right)} + n{\\left(x \\right)} \\frac{d}{d x} \\eta^{n}{\\left(x \\right)} \\frac{d}{d x} u^{n}{\\left(x \\right)} - n{\\left(x \\right)} \\frac{d}{d x} b{\\left(x \\right)} \\frac{d}{d x} u^{n}{\\left(x \\right)} + \\frac{d^{2}}{d x^{2}} \\eta^{n}{\\left(x \\right)} \\frac{d}{d x} u^{n}{\\left(x \\right)} - \\frac{d^{2}}{d x^{2}} b{\\left(x \\right)} \\frac{d}{d x} u^{n}{\\left(x \\right)}\\right) \\varphi{\\left(x \\right)}$"
      ],
      "text/plain": [
       "(-\\eta^{n+1}(x)/\\Delta_t + \\eta^{n}(x)/\\Delta_t)*\\psi(x) + (-\\theta*Derivative(\\eta^{n+1}(x), x)*Derivative(u^{n+1}(x), x) + \\theta*Derivative(\\eta^{n}(x), x)*Derivative(u^{n}(x), x) + \\theta*Derivative(b(x), x)*Derivative(u^{n+1}(x), x) - \\theta*Derivative(b(x), x)*Derivative(u^{n}(x), x) - Derivative(\\eta^{n}(x), x)*Derivative(u^{n}(x), x) + Derivative(b(x), x)*Derivative(u^{n}(x), x))*Derivative(\\varphi(x), x) + (\\theta*n(x)*Derivative(\\eta^{n+1}(x), x)*Derivative(u^{n+1}(x), x) - \\theta*n(x)*Derivative(\\eta^{n}(x), x)*Derivative(u^{n}(x), x) - \\theta*n(x)*Derivative(b(x), x)*Derivative(u^{n+1}(x), x) + \\theta*n(x)*Derivative(b(x), x)*Derivative(u^{n}(x), x) + \\theta*Derivative(\\eta^{n+1}(x), (x, 2))*Derivative(u^{n+1}(x), x) - \\theta*Derivative(\\eta^{n}(x), (x, 2))*Derivative(u^{n}(x), x) - \\theta*Derivative(b(x), (x, 2))*Derivative(u^{n+1}(x), x) + \\theta*Derivative(b(x), (x, 2))*Derivative(u^{n}(x), x) + n(x)*Derivative(\\eta^{n}(x), x)*Derivative(u^{n}(x), x) - n(x)*Derivative(b(x), x)*Derivative(u^{n}(x), x) + Derivative(\\eta^{n}(x), (x, 2))*Derivative(u^{n}(x), x) - Derivative(b(x), (x, 2))*Derivative(u^{n}(x), x))*\\varphi(x)"
      ]
     },
     "execution_count": 174,
     "metadata": {},
     "output_type": "execute_result"
    }
   ],
   "source": [
    "sp.collect(greened_EQ2, [phi, psi])"
   ]
  },
  {
   "cell_type": "code",
   "execution_count": null,
   "metadata": {},
   "outputs": [],
   "source": []
  }
 ],
 "metadata": {
  "kernelspec": {
   "display_name": "pymcenv",
   "language": "python",
   "name": "python3"
  },
  "language_info": {
   "codemirror_mode": {
    "name": "ipython",
    "version": 3
   },
   "file_extension": ".py",
   "mimetype": "text/x-python",
   "name": "python",
   "nbconvert_exporter": "python",
   "pygments_lexer": "ipython3",
   "version": "3.12.3"
  }
 },
 "nbformat": 4,
 "nbformat_minor": 2
}
