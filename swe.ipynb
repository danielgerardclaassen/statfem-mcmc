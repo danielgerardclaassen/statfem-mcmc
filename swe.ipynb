{
 "cells": [
  {
   "cell_type": "code",
   "execution_count": 182,
   "metadata": {},
   "outputs": [],
   "source": [
    "import numpy as np\n",
    "from tqdm import tqdm\n",
    "import pymc as pm\n",
    "import skfem as fem\n",
    "from skfem import MeshLine, ElementLineP1, Basis, BilinearForm, LinearForm\n",
    "from skfem.helpers import dot, grad, d, dd\n",
    "\n",
    "import matplotlib.pyplot as plt\n",
    "import seaborn as sns\n",
    "\n",
    "from scipy.stats import truncnorm\n",
    "import scipy.stats as scstats\n",
    "import scipy.sparse as scsparse\n",
    "import scipy.optimize as scoptimize\n",
    "import scipy.linalg as sclinalg\n",
    "\n",
    "# import pytensor.tensor.subtensor as subtensor\n",
    "# import pytensor.tensor as tensor\n",
    "# import pytensor.sparse as sparsetensor\n",
    "import arviz as az\n",
    "\n",
    "import pytensor.tensor as at\n",
    "from pytensor import function, scan, shared, config, printing\n",
    "from pytensor import grad as ptgrad\n",
    "import numpy as np\n",
    "from tqdm import tqdm\n",
    "from pytensor import sparse\n",
    "\n",
    "import scienceplots\n",
    "# plot params\n",
    "contour_levels = 10\n",
    "plt.style.use(['science', 'grid'])\n",
    "color_list = [(253, 231, 37),(194, 223, 35),(134, 213, 73),(82, 197, 105),(42, 176, 127),(30, 155, 138),(37, 133, 142),(45, 112, 142),(56, 88, 140),(67, 62, 133),(72, 33, 115),(68, 1, 84)]\n",
    "color_list = [tuple(ti/255 for ti in t) for t in color_list]"
   ]
  },
  {
   "cell_type": "code",
   "execution_count": 183,
   "metadata": {},
   "outputs": [],
   "source": [
    "import sympy as sp\n",
    "\n",
    "# Define spatial and temporal variables\n",
    "x, t = sp.symbols('x t')\n",
    "\n",
    "g = sp.symbols(r'g')\n",
    "s = sp.symbols(r's')\n",
    "h_bar = sp.symbols(r'\\bat{H}')\n",
    "nu = sp.symbols(r'\\nu')\n",
    "theta = sp.symbols(r'\\theta')\n",
    "dt = sp.symbols(r'\\Delta_t')\n",
    "\n",
    "u = sp.Function(r'u')(x,t)\n",
    "eta = sp.Function(r'\\eta')(x,t)\n",
    "b = sp.Function(r'b')(x) #5*(1+sp.tanh((x-5)/2000))\n",
    "H = h_bar - b\n",
    "\n",
    "EQ1 = u*sp.diff(u, x) - nu*sp.diff(u, x, 2) + g*sp.diff(eta, x)\n",
    "EQ2 = sp.diff(H, x)*sp.diff(u, x, 2) + sp.diff(H, x, 2)*sp.diff(u, x) + sp.diff(eta, x, 2)*sp.diff(u, x) + sp.diff(eta, x)*sp.diff(u, x, 2)\n",
    "\n",
    "u_1 = sp.Function(r'u^{n+1}')(x)\n",
    "u_0 = sp.Function(r'u^{n}')(x)\n",
    "\n",
    "eta_1 = sp.Function(r'\\eta^{n+1}')(x)\n",
    "eta_0 = sp.Function(r'\\eta^{n}')(x)\n",
    "\n",
    "cn_u = (u_1 - u_0) / dt\n",
    "cn_eta = (eta_1 - eta_0) / dt\n",
    "\n",
    "cn_EQ1 = -cn_u + theta*EQ1.subs([(u, u_1), (eta, eta_1)]) + (1-theta)*EQ1.subs([(u, u_0), (eta, eta_0)]).expand().doit()\n",
    "cn_EQ2 = -cn_eta + theta*EQ2.subs([(u, u_1), (eta, eta_1)]) + (1-theta)*EQ2.subs([(u, u_0), (eta, eta_0)]).expand().doit()\n"
   ]
  },
  {
   "cell_type": "code",
   "execution_count": 184,
   "metadata": {},
   "outputs": [
    {
     "data": {
      "text/latex": [
       "$\\displaystyle - \\nu \\frac{\\partial^{2}}{\\partial x^{2}} u{\\left(x,t \\right)} + g \\frac{\\partial}{\\partial x} \\eta{\\left(x,t \\right)} + u{\\left(x,t \\right)} \\frac{\\partial}{\\partial x} u{\\left(x,t \\right)}$"
      ],
      "text/plain": [
       "-\\nu*Derivative(u(x, t), (x, 2)) + g*Derivative(\\eta(x, t), x) + u(x, t)*Derivative(u(x, t), x)"
      ]
     },
     "execution_count": 184,
     "metadata": {},
     "output_type": "execute_result"
    }
   ],
   "source": [
    "EQ1"
   ]
  },
  {
   "cell_type": "code",
   "execution_count": 185,
   "metadata": {},
   "outputs": [
    {
     "data": {
      "text/latex": [
       "$\\displaystyle \\theta \\left(\\frac{d}{d x} \\eta^{n+1}{\\left(x \\right)} \\frac{d^{2}}{d x^{2}} u^{n+1}{\\left(x \\right)} + \\frac{d^{2}}{d x^{2}} \\eta^{n+1}{\\left(x \\right)} \\frac{d}{d x} u^{n+1}{\\left(x \\right)} - \\frac{d}{d x} b{\\left(x \\right)} \\frac{d^{2}}{d x^{2}} u^{n+1}{\\left(x \\right)} - \\frac{d^{2}}{d x^{2}} b{\\left(x \\right)} \\frac{d}{d x} u^{n+1}{\\left(x \\right)}\\right) + \\left(1 - \\theta\\right) \\left(\\frac{d}{d x} \\eta^{n}{\\left(x \\right)} \\frac{d^{2}}{d x^{2}} u^{n}{\\left(x \\right)} + \\frac{d^{2}}{d x^{2}} \\eta^{n}{\\left(x \\right)} \\frac{d}{d x} u^{n}{\\left(x \\right)} - \\frac{d}{d x} b{\\left(x \\right)} \\frac{d^{2}}{d x^{2}} u^{n}{\\left(x \\right)} - \\frac{d^{2}}{d x^{2}} b{\\left(x \\right)} \\frac{d}{d x} u^{n}{\\left(x \\right)}\\right) - \\frac{\\eta^{n+1}{\\left(x \\right)} - \\eta^{n}{\\left(x \\right)}}{\\Delta_{t}}$"
      ],
      "text/plain": [
       "\\theta*(Derivative(\\eta^{n+1}(x), x)*Derivative(u^{n+1}(x), (x, 2)) + Derivative(\\eta^{n+1}(x), (x, 2))*Derivative(u^{n+1}(x), x) - Derivative(b(x), x)*Derivative(u^{n+1}(x), (x, 2)) - Derivative(b(x), (x, 2))*Derivative(u^{n+1}(x), x)) + (1 - \\theta)*(Derivative(\\eta^{n}(x), x)*Derivative(u^{n}(x), (x, 2)) + Derivative(\\eta^{n}(x), (x, 2))*Derivative(u^{n}(x), x) - Derivative(b(x), x)*Derivative(u^{n}(x), (x, 2)) - Derivative(b(x), (x, 2))*Derivative(u^{n}(x), x)) - (\\eta^{n+1}(x) - \\eta^{n}(x))/\\Delta_t"
      ]
     },
     "execution_count": 185,
     "metadata": {},
     "output_type": "execute_result"
    }
   ],
   "source": [
    "cn_EQ2"
   ]
  },
  {
   "cell_type": "code",
   "execution_count": 202,
   "metadata": {},
   "outputs": [],
   "source": [
    "phi = sp.Function(r'\\varphi')(x)\n",
    "psi = sp.Function(r'\\psi')(x)\n",
    "\n",
    "# def multiply_terms(expr, k_func, j_func):\n",
    "#     new_expr = 0\n",
    "#     for term in expr.as_ordered_terms():\n",
    "#         # Check for velocity terms\n",
    "#         if any([term.has(u_1), term.has(u_0)]):\n",
    "#             new_expr += k_func * term\n",
    "#         # Check for pressure terms\n",
    "#         elif any([term.has(eta_1), term.has(eta_0)]):\n",
    "#             new_expr += j_func * term\n",
    "#         else:\n",
    "#             new_expr += term\n",
    "#     return new_expr\n",
    "\n",
    "# cn_EQ1_modified = multiply_terms(cn_EQ1.expand().doit(), phi, psi).expand().doit()\n",
    "# cn_EQ2_modified = multiply_terms(cn_EQ2.expand().doit(), phi, psi).expand().doit()\n",
    "\n",
    "cn_EQ1_modified = (phi*cn_EQ1).expand().doit()\n",
    "cn_EQ2_modified = (psi*cn_EQ2).expand().doit()"
   ]
  },
  {
   "cell_type": "code",
   "execution_count": 203,
   "metadata": {},
   "outputs": [
    {
     "data": {
      "text/latex": [
       "$\\displaystyle - \\nu \\theta \\frac{d^{2}}{d x^{2}} u^{n+1}{\\left(x \\right)} + \\nu \\theta \\frac{d^{2}}{d x^{2}} u^{n}{\\left(x \\right)} - \\nu \\frac{d^{2}}{d x^{2}} u^{n}{\\left(x \\right)} + \\theta g \\frac{d}{d x} \\eta^{n+1}{\\left(x \\right)} - \\theta g \\frac{d}{d x} \\eta^{n}{\\left(x \\right)} + \\theta u^{n+1}{\\left(x \\right)} \\frac{d}{d x} u^{n+1}{\\left(x \\right)} - \\theta u^{n}{\\left(x \\right)} \\frac{d}{d x} u^{n}{\\left(x \\right)} + g \\frac{d}{d x} \\eta^{n}{\\left(x \\right)} + u^{n}{\\left(x \\right)} \\frac{d}{d x} u^{n}{\\left(x \\right)} - \\frac{u^{n+1}{\\left(x \\right)}}{\\Delta_{t}} + \\frac{u^{n}{\\left(x \\right)}}{\\Delta_{t}}$"
      ],
      "text/plain": [
       "-\\nu*\\theta*Derivative(u^{n+1}(x), (x, 2)) + \\nu*\\theta*Derivative(u^{n}(x), (x, 2)) - \\nu*Derivative(u^{n}(x), (x, 2)) + \\theta*g*Derivative(\\eta^{n+1}(x), x) - \\theta*g*Derivative(\\eta^{n}(x), x) + \\theta*u^{n+1}(x)*Derivative(u^{n+1}(x), x) - \\theta*u^{n}(x)*Derivative(u^{n}(x), x) + g*Derivative(\\eta^{n}(x), x) + u^{n}(x)*Derivative(u^{n}(x), x) - u^{n+1}(x)/\\Delta_t + u^{n}(x)/\\Delta_t"
      ]
     },
     "execution_count": 203,
     "metadata": {},
     "output_type": "execute_result"
    }
   ],
   "source": [
    "cn_EQ1.expand().doit()"
   ]
  },
  {
   "cell_type": "code",
   "execution_count": 205,
   "metadata": {},
   "outputs": [
    {
     "data": {
      "text/latex": [
       "$\\displaystyle \\theta \\psi{\\left(x \\right)} \\frac{d}{d x} \\eta^{n+1}{\\left(x \\right)} \\frac{d^{2}}{d x^{2}} u^{n+1}{\\left(x \\right)} + \\theta \\psi{\\left(x \\right)} \\frac{d^{2}}{d x^{2}} \\eta^{n+1}{\\left(x \\right)} \\frac{d}{d x} u^{n+1}{\\left(x \\right)} - \\theta \\psi{\\left(x \\right)} \\frac{d}{d x} \\eta^{n}{\\left(x \\right)} \\frac{d^{2}}{d x^{2}} u^{n}{\\left(x \\right)} - \\theta \\psi{\\left(x \\right)} \\frac{d^{2}}{d x^{2}} \\eta^{n}{\\left(x \\right)} \\frac{d}{d x} u^{n}{\\left(x \\right)} - \\theta \\psi{\\left(x \\right)} \\frac{d}{d x} b{\\left(x \\right)} \\frac{d^{2}}{d x^{2}} u^{n+1}{\\left(x \\right)} + \\theta \\psi{\\left(x \\right)} \\frac{d}{d x} b{\\left(x \\right)} \\frac{d^{2}}{d x^{2}} u^{n}{\\left(x \\right)} - \\theta \\psi{\\left(x \\right)} \\frac{d^{2}}{d x^{2}} b{\\left(x \\right)} \\frac{d}{d x} u^{n+1}{\\left(x \\right)} + \\theta \\psi{\\left(x \\right)} \\frac{d^{2}}{d x^{2}} b{\\left(x \\right)} \\frac{d}{d x} u^{n}{\\left(x \\right)} + \\psi{\\left(x \\right)} \\frac{d}{d x} \\eta^{n}{\\left(x \\right)} \\frac{d^{2}}{d x^{2}} u^{n}{\\left(x \\right)} + \\psi{\\left(x \\right)} \\frac{d^{2}}{d x^{2}} \\eta^{n}{\\left(x \\right)} \\frac{d}{d x} u^{n}{\\left(x \\right)} - \\psi{\\left(x \\right)} \\frac{d}{d x} b{\\left(x \\right)} \\frac{d^{2}}{d x^{2}} u^{n}{\\left(x \\right)} - \\psi{\\left(x \\right)} \\frac{d^{2}}{d x^{2}} b{\\left(x \\right)} \\frac{d}{d x} u^{n}{\\left(x \\right)} - \\frac{\\eta^{n+1}{\\left(x \\right)} \\psi{\\left(x \\right)}}{\\Delta_{t}} + \\frac{\\eta^{n}{\\left(x \\right)} \\psi{\\left(x \\right)}}{\\Delta_{t}}$"
      ],
      "text/plain": [
       "\\theta*\\psi(x)*Derivative(\\eta^{n+1}(x), x)*Derivative(u^{n+1}(x), (x, 2)) + \\theta*\\psi(x)*Derivative(\\eta^{n+1}(x), (x, 2))*Derivative(u^{n+1}(x), x) - \\theta*\\psi(x)*Derivative(\\eta^{n}(x), x)*Derivative(u^{n}(x), (x, 2)) - \\theta*\\psi(x)*Derivative(\\eta^{n}(x), (x, 2))*Derivative(u^{n}(x), x) - \\theta*\\psi(x)*Derivative(b(x), x)*Derivative(u^{n+1}(x), (x, 2)) + \\theta*\\psi(x)*Derivative(b(x), x)*Derivative(u^{n}(x), (x, 2)) - \\theta*\\psi(x)*Derivative(b(x), (x, 2))*Derivative(u^{n+1}(x), x) + \\theta*\\psi(x)*Derivative(b(x), (x, 2))*Derivative(u^{n}(x), x) + \\psi(x)*Derivative(\\eta^{n}(x), x)*Derivative(u^{n}(x), (x, 2)) + \\psi(x)*Derivative(\\eta^{n}(x), (x, 2))*Derivative(u^{n}(x), x) - \\psi(x)*Derivative(b(x), x)*Derivative(u^{n}(x), (x, 2)) - \\psi(x)*Derivative(b(x), (x, 2))*Derivative(u^{n}(x), x) - \\eta^{n+1}(x)*\\psi(x)/\\Delta_t + \\eta^{n}(x)*\\psi(x)/\\Delta_t"
      ]
     },
     "execution_count": 205,
     "metadata": {},
     "output_type": "execute_result"
    }
   ],
   "source": [
    "cn_EQ2_modified"
   ]
  },
  {
   "cell_type": "code",
   "execution_count": 232,
   "metadata": {},
   "outputs": [],
   "source": [
    "n = sp.Function(r'n')(x)\n",
    "\n",
    "greened_EQ1 = cn_EQ1_modified.subs([(sp.diff(u_0,x,2)*phi, sp.diff(u_0,x,1)*phi*n -sp.diff(u_0,x,1)*sp.diff(phi,x,1)),\n",
    "                      (sp.diff(u_1,x,2)*phi, sp.diff(u_1,x,1)*phi*n -sp.diff(u_1,x,1)*sp.diff(phi,x,1)),\n",
    "                      (sp.diff(eta_0,x,2)*phi, sp.diff(eta_0,x,1)*phi*n -sp.diff(eta_0,x,1)*sp.diff(phi,x,1)),\n",
    "                      (sp.diff(eta_1,x,2)*phi, sp.diff(eta_1,x,1)*phi*n -sp.diff(eta_1,x,1)*sp.diff(phi,x,1))\n",
    "                      ]).expand().doit()\n",
    "\n",
    "greened_EQ2 = cn_EQ2_modified.expand().doit().expand().doit().subs([(sp.diff(u_0,x,2)*psi, sp.diff(u_0,x,1)*psi*n -sp.diff(u_0,x,1)*sp.diff(psi,x,1)),\n",
    "                      (sp.diff(u_1,x,2)*psi, sp.diff(u_1,x,1)*psi*n -sp.diff(u_1,x,1)*sp.diff(psi,x,1)),\n",
    "                      (sp.diff(eta_0,x,2)*psi, sp.diff(eta_0,x,1)*psi*n -sp.diff(eta_0,x,1)*sp.diff(psi,x,1)),\n",
    "                      (sp.diff(eta_1,x,2)*psi, sp.diff(eta_1,x,1)*psi*n -sp.diff(eta_1,x,1)*sp.diff(psi,x,1))\n",
    "                      ]).expand().doit()"
   ]
  },
  {
   "cell_type": "code",
   "execution_count": 233,
   "metadata": {},
   "outputs": [
    {
     "data": {
      "text/latex": [
       "$\\displaystyle - \\nu \\theta \\frac{d^{2}}{d x^{2}} u^{n+1}{\\left(x \\right)} + \\nu \\theta \\frac{d^{2}}{d x^{2}} u^{n}{\\left(x \\right)} - \\nu \\frac{d^{2}}{d x^{2}} u^{n}{\\left(x \\right)} + \\theta g \\frac{d}{d x} \\eta^{n+1}{\\left(x \\right)} - \\theta g \\frac{d}{d x} \\eta^{n}{\\left(x \\right)} + \\theta u^{n+1}{\\left(x \\right)} \\frac{d}{d x} u^{n+1}{\\left(x \\right)} - \\theta u^{n}{\\left(x \\right)} \\frac{d}{d x} u^{n}{\\left(x \\right)} + g \\frac{d}{d x} \\eta^{n}{\\left(x \\right)} + u^{n}{\\left(x \\right)} \\frac{d}{d x} u^{n}{\\left(x \\right)} - \\frac{u^{n+1}{\\left(x \\right)}}{\\Delta_{t}} + \\frac{u^{n}{\\left(x \\right)}}{\\Delta_{t}}$"
      ],
      "text/plain": [
       "-\\nu*\\theta*Derivative(u^{n+1}(x), (x, 2)) + \\nu*\\theta*Derivative(u^{n}(x), (x, 2)) - \\nu*Derivative(u^{n}(x), (x, 2)) + \\theta*g*Derivative(\\eta^{n+1}(x), x) - \\theta*g*Derivative(\\eta^{n}(x), x) + \\theta*u^{n+1}(x)*Derivative(u^{n+1}(x), x) - \\theta*u^{n}(x)*Derivative(u^{n}(x), x) + g*Derivative(\\eta^{n}(x), x) + u^{n}(x)*Derivative(u^{n}(x), x) - u^{n+1}(x)/\\Delta_t + u^{n}(x)/\\Delta_t"
      ]
     },
     "execution_count": 233,
     "metadata": {},
     "output_type": "execute_result"
    }
   ],
   "source": [
    "cn_EQ1.expand().doit()"
   ]
  },
  {
   "cell_type": "code",
   "execution_count": 234,
   "metadata": {},
   "outputs": [
    {
     "data": {
      "text/latex": [
       "$\\displaystyle - \\nu \\theta \\varphi{\\left(x \\right)} n{\\left(x \\right)} \\frac{d}{d x} u^{n+1}{\\left(x \\right)} + \\nu \\theta \\varphi{\\left(x \\right)} n{\\left(x \\right)} \\frac{d}{d x} u^{n}{\\left(x \\right)} + \\nu \\theta \\frac{d}{d x} \\varphi{\\left(x \\right)} \\frac{d}{d x} u^{n+1}{\\left(x \\right)} - \\nu \\theta \\frac{d}{d x} \\varphi{\\left(x \\right)} \\frac{d}{d x} u^{n}{\\left(x \\right)} - \\nu \\varphi{\\left(x \\right)} n{\\left(x \\right)} \\frac{d}{d x} u^{n}{\\left(x \\right)} + \\nu \\frac{d}{d x} \\varphi{\\left(x \\right)} \\frac{d}{d x} u^{n}{\\left(x \\right)} + \\theta g \\varphi{\\left(x \\right)} \\frac{d}{d x} \\eta^{n+1}{\\left(x \\right)} - \\theta g \\varphi{\\left(x \\right)} \\frac{d}{d x} \\eta^{n}{\\left(x \\right)} + \\theta \\varphi{\\left(x \\right)} u^{n+1}{\\left(x \\right)} \\frac{d}{d x} u^{n+1}{\\left(x \\right)} - \\theta \\varphi{\\left(x \\right)} u^{n}{\\left(x \\right)} \\frac{d}{d x} u^{n}{\\left(x \\right)} + g \\varphi{\\left(x \\right)} \\frac{d}{d x} \\eta^{n}{\\left(x \\right)} + \\varphi{\\left(x \\right)} u^{n}{\\left(x \\right)} \\frac{d}{d x} u^{n}{\\left(x \\right)} - \\frac{\\varphi{\\left(x \\right)} u^{n+1}{\\left(x \\right)}}{\\Delta_{t}} + \\frac{\\varphi{\\left(x \\right)} u^{n}{\\left(x \\right)}}{\\Delta_{t}}$"
      ],
      "text/plain": [
       "-\\nu*\\theta*\\varphi(x)*n(x)*Derivative(u^{n+1}(x), x) + \\nu*\\theta*\\varphi(x)*n(x)*Derivative(u^{n}(x), x) + \\nu*\\theta*Derivative(\\varphi(x), x)*Derivative(u^{n+1}(x), x) - \\nu*\\theta*Derivative(\\varphi(x), x)*Derivative(u^{n}(x), x) - \\nu*\\varphi(x)*n(x)*Derivative(u^{n}(x), x) + \\nu*Derivative(\\varphi(x), x)*Derivative(u^{n}(x), x) + \\theta*g*\\varphi(x)*Derivative(\\eta^{n+1}(x), x) - \\theta*g*\\varphi(x)*Derivative(\\eta^{n}(x), x) + \\theta*\\varphi(x)*u^{n+1}(x)*Derivative(u^{n+1}(x), x) - \\theta*\\varphi(x)*u^{n}(x)*Derivative(u^{n}(x), x) + g*\\varphi(x)*Derivative(\\eta^{n}(x), x) + \\varphi(x)*u^{n}(x)*Derivative(u^{n}(x), x) - \\varphi(x)*u^{n+1}(x)/\\Delta_t + \\varphi(x)*u^{n}(x)/\\Delta_t"
      ]
     },
     "execution_count": 234,
     "metadata": {},
     "output_type": "execute_result"
    }
   ],
   "source": [
    "greened_EQ1"
   ]
  },
  {
   "cell_type": "code",
   "execution_count": 235,
   "metadata": {},
   "outputs": [
    {
     "data": {
      "text/latex": [
       "$\\displaystyle \\theta \\frac{d}{d x} \\eta^{n+1}{\\left(x \\right)} \\frac{d^{2}}{d x^{2}} u^{n+1}{\\left(x \\right)} + \\theta \\frac{d^{2}}{d x^{2}} \\eta^{n+1}{\\left(x \\right)} \\frac{d}{d x} u^{n+1}{\\left(x \\right)} - \\theta \\frac{d}{d x} \\eta^{n}{\\left(x \\right)} \\frac{d^{2}}{d x^{2}} u^{n}{\\left(x \\right)} - \\theta \\frac{d^{2}}{d x^{2}} \\eta^{n}{\\left(x \\right)} \\frac{d}{d x} u^{n}{\\left(x \\right)} - \\theta \\frac{d}{d x} b{\\left(x \\right)} \\frac{d^{2}}{d x^{2}} u^{n+1}{\\left(x \\right)} + \\theta \\frac{d}{d x} b{\\left(x \\right)} \\frac{d^{2}}{d x^{2}} u^{n}{\\left(x \\right)} - \\theta \\frac{d^{2}}{d x^{2}} b{\\left(x \\right)} \\frac{d}{d x} u^{n+1}{\\left(x \\right)} + \\theta \\frac{d^{2}}{d x^{2}} b{\\left(x \\right)} \\frac{d}{d x} u^{n}{\\left(x \\right)} + \\frac{d}{d x} \\eta^{n}{\\left(x \\right)} \\frac{d^{2}}{d x^{2}} u^{n}{\\left(x \\right)} + \\frac{d^{2}}{d x^{2}} \\eta^{n}{\\left(x \\right)} \\frac{d}{d x} u^{n}{\\left(x \\right)} - \\frac{d}{d x} b{\\left(x \\right)} \\frac{d^{2}}{d x^{2}} u^{n}{\\left(x \\right)} - \\frac{d^{2}}{d x^{2}} b{\\left(x \\right)} \\frac{d}{d x} u^{n}{\\left(x \\right)} - \\frac{\\eta^{n+1}{\\left(x \\right)}}{\\Delta_{t}} + \\frac{\\eta^{n}{\\left(x \\right)}}{\\Delta_{t}}$"
      ],
      "text/plain": [
       "\\theta*Derivative(\\eta^{n+1}(x), x)*Derivative(u^{n+1}(x), (x, 2)) + \\theta*Derivative(\\eta^{n+1}(x), (x, 2))*Derivative(u^{n+1}(x), x) - \\theta*Derivative(\\eta^{n}(x), x)*Derivative(u^{n}(x), (x, 2)) - \\theta*Derivative(\\eta^{n}(x), (x, 2))*Derivative(u^{n}(x), x) - \\theta*Derivative(b(x), x)*Derivative(u^{n+1}(x), (x, 2)) + \\theta*Derivative(b(x), x)*Derivative(u^{n}(x), (x, 2)) - \\theta*Derivative(b(x), (x, 2))*Derivative(u^{n+1}(x), x) + \\theta*Derivative(b(x), (x, 2))*Derivative(u^{n}(x), x) + Derivative(\\eta^{n}(x), x)*Derivative(u^{n}(x), (x, 2)) + Derivative(\\eta^{n}(x), (x, 2))*Derivative(u^{n}(x), x) - Derivative(b(x), x)*Derivative(u^{n}(x), (x, 2)) - Derivative(b(x), (x, 2))*Derivative(u^{n}(x), x) - \\eta^{n+1}(x)/\\Delta_t + \\eta^{n}(x)/\\Delta_t"
      ]
     },
     "execution_count": 235,
     "metadata": {},
     "output_type": "execute_result"
    }
   ],
   "source": [
    "cn_EQ2.expand().doit()"
   ]
  },
  {
   "cell_type": "code",
   "execution_count": 236,
   "metadata": {},
   "outputs": [
    {
     "data": {
      "text/latex": [
       "$\\displaystyle 2 \\theta \\psi{\\left(x \\right)} n{\\left(x \\right)} \\frac{d}{d x} \\eta^{n+1}{\\left(x \\right)} \\frac{d}{d x} u^{n+1}{\\left(x \\right)} - 2 \\theta \\psi{\\left(x \\right)} n{\\left(x \\right)} \\frac{d}{d x} \\eta^{n}{\\left(x \\right)} \\frac{d}{d x} u^{n}{\\left(x \\right)} - \\theta \\psi{\\left(x \\right)} n{\\left(x \\right)} \\frac{d}{d x} b{\\left(x \\right)} \\frac{d}{d x} u^{n+1}{\\left(x \\right)} + \\theta \\psi{\\left(x \\right)} n{\\left(x \\right)} \\frac{d}{d x} b{\\left(x \\right)} \\frac{d}{d x} u^{n}{\\left(x \\right)} - \\theta \\psi{\\left(x \\right)} \\frac{d^{2}}{d x^{2}} b{\\left(x \\right)} \\frac{d}{d x} u^{n+1}{\\left(x \\right)} + \\theta \\psi{\\left(x \\right)} \\frac{d^{2}}{d x^{2}} b{\\left(x \\right)} \\frac{d}{d x} u^{n}{\\left(x \\right)} - 2 \\theta \\frac{d}{d x} \\eta^{n+1}{\\left(x \\right)} \\frac{d}{d x} \\psi{\\left(x \\right)} \\frac{d}{d x} u^{n+1}{\\left(x \\right)} + 2 \\theta \\frac{d}{d x} \\eta^{n}{\\left(x \\right)} \\frac{d}{d x} \\psi{\\left(x \\right)} \\frac{d}{d x} u^{n}{\\left(x \\right)} + \\theta \\frac{d}{d x} \\psi{\\left(x \\right)} \\frac{d}{d x} b{\\left(x \\right)} \\frac{d}{d x} u^{n+1}{\\left(x \\right)} - \\theta \\frac{d}{d x} \\psi{\\left(x \\right)} \\frac{d}{d x} b{\\left(x \\right)} \\frac{d}{d x} u^{n}{\\left(x \\right)} + 2 \\psi{\\left(x \\right)} n{\\left(x \\right)} \\frac{d}{d x} \\eta^{n}{\\left(x \\right)} \\frac{d}{d x} u^{n}{\\left(x \\right)} - \\psi{\\left(x \\right)} n{\\left(x \\right)} \\frac{d}{d x} b{\\left(x \\right)} \\frac{d}{d x} u^{n}{\\left(x \\right)} - \\psi{\\left(x \\right)} \\frac{d^{2}}{d x^{2}} b{\\left(x \\right)} \\frac{d}{d x} u^{n}{\\left(x \\right)} - 2 \\frac{d}{d x} \\eta^{n}{\\left(x \\right)} \\frac{d}{d x} \\psi{\\left(x \\right)} \\frac{d}{d x} u^{n}{\\left(x \\right)} + \\frac{d}{d x} \\psi{\\left(x \\right)} \\frac{d}{d x} b{\\left(x \\right)} \\frac{d}{d x} u^{n}{\\left(x \\right)} - \\frac{\\eta^{n+1}{\\left(x \\right)} \\psi{\\left(x \\right)}}{\\Delta_{t}} + \\frac{\\eta^{n}{\\left(x \\right)} \\psi{\\left(x \\right)}}{\\Delta_{t}}$"
      ],
      "text/plain": [
       "2*\\theta*\\psi(x)*n(x)*Derivative(\\eta^{n+1}(x), x)*Derivative(u^{n+1}(x), x) - 2*\\theta*\\psi(x)*n(x)*Derivative(\\eta^{n}(x), x)*Derivative(u^{n}(x), x) - \\theta*\\psi(x)*n(x)*Derivative(b(x), x)*Derivative(u^{n+1}(x), x) + \\theta*\\psi(x)*n(x)*Derivative(b(x), x)*Derivative(u^{n}(x), x) - \\theta*\\psi(x)*Derivative(b(x), (x, 2))*Derivative(u^{n+1}(x), x) + \\theta*\\psi(x)*Derivative(b(x), (x, 2))*Derivative(u^{n}(x), x) - 2*\\theta*Derivative(\\eta^{n+1}(x), x)*Derivative(\\psi(x), x)*Derivative(u^{n+1}(x), x) + 2*\\theta*Derivative(\\eta^{n}(x), x)*Derivative(\\psi(x), x)*Derivative(u^{n}(x), x) + \\theta*Derivative(\\psi(x), x)*Derivative(b(x), x)*Derivative(u^{n+1}(x), x) - \\theta*Derivative(\\psi(x), x)*Derivative(b(x), x)*Derivative(u^{n}(x), x) + 2*\\psi(x)*n(x)*Derivative(\\eta^{n}(x), x)*Derivative(u^{n}(x), x) - \\psi(x)*n(x)*Derivative(b(x), x)*Derivative(u^{n}(x), x) - \\psi(x)*Derivative(b(x), (x, 2))*Derivative(u^{n}(x), x) - 2*Derivative(\\eta^{n}(x), x)*Derivative(\\psi(x), x)*Derivative(u^{n}(x), x) + Derivative(\\psi(x), x)*Derivative(b(x), x)*Derivative(u^{n}(x), x) - \\eta^{n+1}(x)*\\psi(x)/\\Delta_t + \\eta^{n}(x)*\\psi(x)/\\Delta_t"
      ]
     },
     "execution_count": 236,
     "metadata": {},
     "output_type": "execute_result"
    }
   ],
   "source": [
    "greened_EQ2"
   ]
  },
  {
   "cell_type": "code",
   "execution_count": 237,
   "metadata": {},
   "outputs": [],
   "source": [
    "u_hat = sp.Function(r'\\hat{u}')(x)\n",
    "eta_hat = sp.Function(r'\\hat{\\eta}')(x)\n",
    "\n",
    "epsilon = sp.symbols(r'\\epsilon')\n",
    "\n",
    "u_perturbed = u_1 + epsilon*u_hat\n",
    "eta_perturbed = eta_1 + epsilon*eta_hat\n",
    "\n",
    "u_perturbed_x = sp.diff(u_perturbed, x)\n",
    "\n",
    "v_perturbed_x = sp.diff(eta_perturbed, x)\n",
    "\n",
    "J11 = greened_EQ1.subs([(u_1, u_perturbed), (sp.diff(u,x,1), u_perturbed_x)])\n",
    "J12 = greened_EQ1.subs([(eta_1, eta_perturbed), (sp.diff(eta,x,1), v_perturbed_x)])\n",
    "\n",
    "J21 = greened_EQ2.subs([(u_1, u_perturbed), (sp.diff(u,x,1), u_perturbed_x)])\n",
    "J22 = greened_EQ2.subs([(eta_1, eta_perturbed), (sp.diff(eta,x,1), v_perturbed_x)])\n",
    "\n",
    "J11_lim = sp.limit((J11 - greened_EQ1) / epsilon, epsilon, 0)\n",
    "J12_lim = sp.limit((J12 - greened_EQ1) / epsilon, epsilon, 0)\n",
    "\n",
    "J21_lim = sp.limit((J21 - greened_EQ2) / epsilon, epsilon, 0)\n",
    "J22_lim = sp.limit((J22 - greened_EQ2) / epsilon, epsilon, 0)\n"
   ]
  },
  {
   "cell_type": "code",
   "execution_count": 238,
   "metadata": {},
   "outputs": [
    {
     "data": {
      "text/latex": [
       "$\\displaystyle \\frac{- \\Delta_{t} \\nu \\theta \\varphi{\\left(x \\right)} n{\\left(x \\right)} \\frac{d}{d x} \\hat{u}{\\left(x \\right)} + \\Delta_{t} \\nu \\theta \\frac{d}{d x} \\hat{u}{\\left(x \\right)} \\frac{d}{d x} \\varphi{\\left(x \\right)} + \\Delta_{t} \\theta \\hat{u}{\\left(x \\right)} \\varphi{\\left(x \\right)} \\frac{d}{d x} u^{n+1}{\\left(x \\right)} + \\Delta_{t} \\theta \\varphi{\\left(x \\right)} u^{n+1}{\\left(x \\right)} \\frac{d}{d x} \\hat{u}{\\left(x \\right)} - \\hat{u}{\\left(x \\right)} \\varphi{\\left(x \\right)}}{\\Delta_{t}}$"
      ],
      "text/plain": [
       "(-\\Delta_t*\\nu*\\theta*\\varphi(x)*n(x)*Derivative(\\hat{u}(x), x) + \\Delta_t*\\nu*\\theta*Derivative(\\hat{u}(x), x)*Derivative(\\varphi(x), x) + \\Delta_t*\\theta*\\hat{u}(x)*\\varphi(x)*Derivative(u^{n+1}(x), x) + \\Delta_t*\\theta*\\varphi(x)*u^{n+1}(x)*Derivative(\\hat{u}(x), x) - \\hat{u}(x)*\\varphi(x))/\\Delta_t"
      ]
     },
     "execution_count": 238,
     "metadata": {},
     "output_type": "execute_result"
    }
   ],
   "source": [
    "J11_lim"
   ]
  },
  {
   "cell_type": "code",
   "execution_count": 239,
   "metadata": {},
   "outputs": [],
   "source": [
    "equation = greened_EQ1\n",
    "\n",
    "S = sp.symbols('S')   # Boundary differential\n",
    "\n",
    "integrand_domain1 = sum(\n",
    "    sp.Integral(term, x)  # Domain integral with differential dx\n",
    "    for term in equation.args\n",
    "    if not term.has(n)  # Exclude terms involving n\n",
    ")\n",
    "\n",
    "# Boundary integrals (terms involving n)\n",
    "integrand_boundary1 = sum(\n",
    "    sp.Integral(term, S)  # Boundary integral with differential dS\n",
    "    for term in equation.args\n",
    "    if term.has(n)\n",
    ")\n",
    "\n",
    "# The final weak form with symbolic integrals\n",
    "final_expression1 = integrand_domain1 + integrand_boundary1\n",
    "\n",
    "equation = greened_EQ2\n",
    "\n",
    "S = sp.symbols('S')   # Boundary differential\n",
    "\n",
    "integrand_domain2 = sum(\n",
    "    sp.Integral(term, x)  # Domain integral with differential dx\n",
    "    for term in equation.args\n",
    "    if not term.has(n)  # Exclude terms involving n\n",
    ")\n",
    "\n",
    "# Boundary integrals (terms involving n)\n",
    "integrand_boundary2 = sum(\n",
    "    sp.Integral(term, S)  # Boundary integral with differential dS\n",
    "    for term in equation.args\n",
    "    if term.has(n)\n",
    ")\n",
    "\n",
    "# The final weak form with symbolic integrals\n",
    "final_expression2 = integrand_domain2 + integrand_boundary2"
   ]
  },
  {
   "cell_type": "code",
   "execution_count": 240,
   "metadata": {},
   "outputs": [
    {
     "data": {
      "text/latex": [
       "$\\displaystyle \\nu \\theta \\int \\frac{d}{d x} \\varphi{\\left(x \\right)} \\frac{d}{d x} u^{n+1}{\\left(x \\right)}\\, dx - \\nu \\theta \\int \\frac{d}{d x} \\varphi{\\left(x \\right)} \\frac{d}{d x} u^{n}{\\left(x \\right)}\\, dx + \\nu \\int \\frac{d}{d x} \\varphi{\\left(x \\right)} \\frac{d}{d x} u^{n}{\\left(x \\right)}\\, dx + \\theta g \\int \\varphi{\\left(x \\right)} \\frac{d}{d x} \\eta^{n+1}{\\left(x \\right)}\\, dx - \\theta g \\int \\varphi{\\left(x \\right)} \\frac{d}{d x} \\eta^{n}{\\left(x \\right)}\\, dx + \\theta \\int \\varphi{\\left(x \\right)} u^{n+1}{\\left(x \\right)} \\frac{d}{d x} u^{n+1}{\\left(x \\right)}\\, dx - \\theta \\int \\varphi{\\left(x \\right)} u^{n}{\\left(x \\right)} \\frac{d}{d x} u^{n}{\\left(x \\right)}\\, dx + g \\int \\varphi{\\left(x \\right)} \\frac{d}{d x} \\eta^{n}{\\left(x \\right)}\\, dx + \\int \\varphi{\\left(x \\right)} u^{n}{\\left(x \\right)} \\frac{d}{d x} u^{n}{\\left(x \\right)}\\, dx - \\frac{\\int \\varphi{\\left(x \\right)} u^{n+1}{\\left(x \\right)}\\, dx}{\\Delta_{t}} + \\frac{\\int \\varphi{\\left(x \\right)} u^{n}{\\left(x \\right)}\\, dx}{\\Delta_{t}}$"
      ],
      "text/plain": [
       "\\nu*\\theta*Integral(Derivative(\\varphi(x), x)*Derivative(u^{n+1}(x), x), x) - \\nu*\\theta*Integral(Derivative(\\varphi(x), x)*Derivative(u^{n}(x), x), x) + \\nu*Integral(Derivative(\\varphi(x), x)*Derivative(u^{n}(x), x), x) + \\theta*g*Integral(\\varphi(x)*Derivative(\\eta^{n+1}(x), x), x) - \\theta*g*Integral(\\varphi(x)*Derivative(\\eta^{n}(x), x), x) + \\theta*Integral(\\varphi(x)*u^{n+1}(x)*Derivative(u^{n+1}(x), x), x) - \\theta*Integral(\\varphi(x)*u^{n}(x)*Derivative(u^{n}(x), x), x) + g*Integral(\\varphi(x)*Derivative(\\eta^{n}(x), x), x) + Integral(\\varphi(x)*u^{n}(x)*Derivative(u^{n}(x), x), x) - Integral(\\varphi(x)*u^{n+1}(x), x)/\\Delta_t + Integral(\\varphi(x)*u^{n}(x), x)/\\Delta_t"
      ]
     },
     "execution_count": 240,
     "metadata": {},
     "output_type": "execute_result"
    }
   ],
   "source": [
    "sp.collect(integrand_domain1, [phi, psi]).doit()"
   ]
  },
  {
   "cell_type": "code",
   "execution_count": 241,
   "metadata": {},
   "outputs": [
    {
     "name": "stdout",
     "output_type": "stream",
     "text": [
      "[0, 0, 1, 0, 1]\n",
      "[0, 0, 1, 0, 1]\n",
      "[1, 0, 1, 0, 1]\n",
      "[0, 0, 1, 0, 0]\n",
      "[0, 0, 1, 0, 0]\n",
      "[0, 0, 1, 0, 1]\n",
      "[0, 0, 1, 0, 1]\n",
      "[0, 1, 0, 0, 0]\n",
      "[0, 1, 0, 0, 0]\n",
      "[0, 1, 0, 1, 0]\n",
      "[0, 1, 0, 1, 0]\n",
      "[1, 1, 0, 1, 0]\n",
      "[0, 1, 0, 1, 0]\n",
      "[0, 1, 0, 1, 0]\n",
      "[0, 0, 1, 0, 1]\n",
      "[0, 0, 1, 0, 1]\n",
      "[1, 0, 1, 0, 1]\n",
      "[0, 0, 1, 0, 1]\n",
      "[0, 0, 1, 0, 1]\n"
     ]
    }
   ],
   "source": [
    "mat_exp_1 = 0\n",
    "term_count = 0\n",
    "n_u = sp.symbols(r'n_u')\n",
    "n_eta = sp.symbols(r'n_eta')\n",
    "M = sp.MatrixSymbol(r'\\mathbf{M}', n_u, n_u)\n",
    "A = sp.MatrixSymbol(r'\\mathbf{A}', n_eta, n_eta)\n",
    "u_1_vec = sp.Symbol(r'\\mathbf{u}^{n+1}')\n",
    "u_0_vec = sp.Symbol(r'\\mathbf{u}^{n}')\n",
    "eta_1_vec = sp.Symbol(r'\\mathbf{\\eta}^{n+1}')\n",
    "eta_0_vec = sp.Symbol(r'\\mathbf{\\eta}^{n}')\n",
    "\n",
    "for term in integrand_domain.args:\n",
    "    term_check = []\n",
    "    if term.has(phi):\n",
    "        # print(term)\n",
    "        term_check.append(0)\n",
    "        subterm_count = 0\n",
    "        term_count += 1\n",
    "        u_1_check = term_check.append(int(term.has(u_1)))\n",
    "        u_0_check = term_check.append(int(term.has(u_0)))\n",
    "        diff_u_1_check = term_check.append(int(term.has(sp.diff(u_1,x))))\n",
    "        diff_u_0_check = term_check.append(int(term.has(sp.diff(u_0,x))))\n",
    "        print(term_check)\n",
    "        # for subterm in term.atoms(sp.Derivative):\n",
    "        #     # print(subterm)\n",
    "        #     subterm_count += 1\n",
    "        # print(f'Term {term_count} has a phi and a u_1: {u_1_check}, or u_0: {u_0_check}, and has {subterm_count} derivative terms.')\n",
    "    elif term.has(psi):\n",
    "        # print(term)\n",
    "        term_check.append(1)\n",
    "        subterm_count = 0\n",
    "        term_count += 1\n",
    "        eta_1_check = term_check.append(int(term.has(eta_1)))\n",
    "        eta_0_check = term_check.append(int(term.has(eta_0)))\n",
    "        diff_eta_1_check = term_check.append(int(term.has(sp.diff(eta_1,x))))\n",
    "        diff_eta_0_check = term_check.append(int(term.has(sp.diff(eta_0,x))))\n",
    "        # for subterm in term.atoms(sp.Derivative):\n",
    "        #     # print(subterm)\n",
    "        #     subterm_count += 1\n",
    "        # print(f'Term {term_count} has a psi and a eta_1: {u_1_check}, or eta_0: {u_0_check}, and has {subterm_count} derivative terms.')\n",
    "    print(term_check)\n",
    "    \n",
    "    "
   ]
  },
  {
   "cell_type": "code",
   "execution_count": 473,
   "metadata": {},
   "outputs": [],
   "source": [
    "horizontal_cell_count = 500\n",
    "space_start = 0\n",
    "space_end = 10000\n",
    "xs = np.linspace(space_start, space_end, horizontal_cell_count)\n",
    "# xs_2 = np.linspace(space_start, space_end, horizontal_cell_count*2-1)\n",
    "\n",
    "u_mesh = fem.MeshLine(xs)\n",
    "# eta_mesh = fem.MeshLine(xs_2)\n",
    "element1 = fem.ElementLineP2()\n",
    "element2 = fem.ElementLineP1()\n",
    "\n",
    "basis_u = fem.Basis(u_mesh, element1)\n",
    "basis_eta = basis_u.with_element(element2)\n",
    "\n",
    "u_coords = basis_u.doflocs[0].T\n",
    "eta_coords = basis_eta.doflocs[0].T\n",
    "\n",
    "u_b1 = np.where(u_coords == space_start)[0][0]\n",
    "u_b2 = np.where(u_coords == space_end)[0][0]\n",
    "eta_b1 = np.where(eta_coords == space_start)[0][0]\n",
    "eta_b2 = np.where(eta_coords == space_end)[0][0]"
   ]
  },
  {
   "cell_type": "code",
   "execution_count": 474,
   "metadata": {},
   "outputs": [],
   "source": [
    "nu = .1\n",
    "g = -9.8\n",
    "h_bar = 30\n",
    "s = 2000\n",
    "\n",
    "def b_func(x, s):\n",
    "    return 5*(1+np.tanh((x - s)/2000))\n",
    "\n",
    "def tau_func(t):\n",
    "    return 2*(1+np.cos((4*np.pi*t)/(86400)))\n",
    "\n",
    "t = 0\n",
    "theta = 0.6\n",
    "dt = 1 \n",
    "t_end = 12*60*60. \n",
    "time_range = np.linspace(0, t_end, int(t_end // dt)+1)\n",
    "time_steps = len(time_range)\n",
    "\n",
    "u_fields = np.zeros((time_steps, len(u_coords)))\n",
    "eta_fields = np.zeros((time_steps, len(eta_coords)))\n",
    "\n",
    "eta_fields[:, 0] = tau_func(time_range)\n",
    "\n",
    "u_previous = u_fields[0,:]\n",
    "eta_previous = eta_fields[0,:]\n",
    "\n",
    "u_guess = u_previous\n",
    "eta_guess = eta_previous"
   ]
  },
  {
   "cell_type": "code",
   "execution_count": 505,
   "metadata": {},
   "outputs": [],
   "source": [
    "@fem.LinearForm\n",
    "def F_1(v,w):\n",
    "    C1 = v*(theta*g*grad(w.eta_1)[0] - theta*g*grad(w.eta_0)[0] + theta*w.u_1*grad(w.u_1)[0] - theta*w.u_0*grad(w.u_0)[0] + g*grad(w.eta_0)[0] + w.u_0*grad(w.u_0)[0] - (1/dt)*w.u_1 + (1/dt)*w.u_0)\n",
    "    C2 = grad(v)[0]*(nu*theta*grad(w.u_1)[0] - nu*theta*grad(w.u_0)[0] + nu*grad(w.u_0)[0])\n",
    "    return C1 + C2\n",
    "\n",
    "@fem.LinearForm\n",
    "def F_2(v,w):\n",
    "    b_1 = d(w.b)\n",
    "    b_2 = d(w.b_1)\n",
    "\n",
    "    C1 = v*(-theta*b_2*grad(w.u_1) + theta*b_2*grad(w.u_0) )\n",
    "\n",
    "    C2 = v*(-b_2*grad(w.u_0) - (1/dt)*w.eta_1 + (1/dt)*w.eta_0)\n",
    "\n",
    "    C3 = grad(v)*(-2*theta*grad(w.eta_1)*grad(w.u_1) + 2*theta*grad(w.eta_0)*grad(w.u_0))\n",
    "\n",
    "    C4 = grad(v)*( theta*b_1*grad(w.u_1) - theta*b_1*grad(w.u_0) - 2*grad(w.eta_0)*grad(w.u_0) + b_1*grad(w.u_0))\n",
    "    return C1 + C2 + C3 + C4\n",
    "\n",
    "def get_residual(u_guess, u_previous, eta_guess, eta_previous):\n",
    "    part1 = F_1.assemble(basis_u, u_1 = basis_u.interpolate(u_guess), u_0 = basis_u.interpolate(u_previous), eta_1 = basis_eta.interpolate(eta_guess), eta_0 = basis_eta.interpolate(eta_previous))\n",
    "    part2 = F_2.assemble(basis_eta, u_1 = basis_u.interpolate(u_guess), u_0 = basis_u.interpolate(u_previous), eta_1 = basis_eta.interpolate(eta_guess), eta_0 = basis_eta.interpolate(eta_previous), b = basis_eta.interpolate(b_func(eta_coords, s)), b_1 = basis_eta.interpolate(np.gradient(b_func(eta_coords, s))))\n",
    "    return np.concatenate((part1, part2))\n",
    "\n"
   ]
  },
  {
   "cell_type": "code",
   "execution_count": 506,
   "metadata": {},
   "outputs": [
    {
     "ename": "ValueError",
     "evalue": "could not broadcast input array from shape (3,) into shape (499,)",
     "output_type": "error",
     "traceback": [
      "\u001b[0;31m---------------------------------------------------------------------------\u001b[0m",
      "\u001b[0;31mValueError\u001b[0m                                Traceback (most recent call last)",
      "Cell \u001b[0;32mIn[506], line 1\u001b[0m\n\u001b[0;32m----> 1\u001b[0m \u001b[43mget_residual\u001b[49m\u001b[43m(\u001b[49m\u001b[43mu_guess\u001b[49m\u001b[43m,\u001b[49m\u001b[43m \u001b[49m\u001b[43mu_previous\u001b[49m\u001b[43m,\u001b[49m\u001b[43m \u001b[49m\u001b[43meta_guess\u001b[49m\u001b[43m,\u001b[49m\u001b[43m \u001b[49m\u001b[43meta_previous\u001b[49m\u001b[43m)\u001b[49m\n",
      "Cell \u001b[0;32mIn[505], line 23\u001b[0m, in \u001b[0;36mget_residual\u001b[0;34m(u_guess, u_previous, eta_guess, eta_previous)\u001b[0m\n\u001b[1;32m     21\u001b[0m \u001b[38;5;28;01mdef\u001b[39;00m \u001b[38;5;21mget_residual\u001b[39m(u_guess, u_previous, eta_guess, eta_previous):\n\u001b[1;32m     22\u001b[0m     part1 \u001b[38;5;241m=\u001b[39m F_1\u001b[38;5;241m.\u001b[39massemble(basis_u, u_1 \u001b[38;5;241m=\u001b[39m basis_u\u001b[38;5;241m.\u001b[39minterpolate(u_guess), u_0 \u001b[38;5;241m=\u001b[39m basis_u\u001b[38;5;241m.\u001b[39minterpolate(u_previous), eta_1 \u001b[38;5;241m=\u001b[39m basis_eta\u001b[38;5;241m.\u001b[39minterpolate(eta_guess), eta_0 \u001b[38;5;241m=\u001b[39m basis_eta\u001b[38;5;241m.\u001b[39minterpolate(eta_previous))\n\u001b[0;32m---> 23\u001b[0m     part2 \u001b[38;5;241m=\u001b[39m \u001b[43mF_2\u001b[49m\u001b[38;5;241;43m.\u001b[39;49m\u001b[43massemble\u001b[49m\u001b[43m(\u001b[49m\u001b[43mbasis_eta\u001b[49m\u001b[43m,\u001b[49m\u001b[43m \u001b[49m\u001b[43mu_1\u001b[49m\u001b[43m \u001b[49m\u001b[38;5;241;43m=\u001b[39;49m\u001b[43m \u001b[49m\u001b[43mbasis_u\u001b[49m\u001b[38;5;241;43m.\u001b[39;49m\u001b[43minterpolate\u001b[49m\u001b[43m(\u001b[49m\u001b[43mu_guess\u001b[49m\u001b[43m)\u001b[49m\u001b[43m,\u001b[49m\u001b[43m \u001b[49m\u001b[43mu_0\u001b[49m\u001b[43m \u001b[49m\u001b[38;5;241;43m=\u001b[39;49m\u001b[43m \u001b[49m\u001b[43mbasis_u\u001b[49m\u001b[38;5;241;43m.\u001b[39;49m\u001b[43minterpolate\u001b[49m\u001b[43m(\u001b[49m\u001b[43mu_previous\u001b[49m\u001b[43m)\u001b[49m\u001b[43m,\u001b[49m\u001b[43m \u001b[49m\u001b[43meta_1\u001b[49m\u001b[43m \u001b[49m\u001b[38;5;241;43m=\u001b[39;49m\u001b[43m \u001b[49m\u001b[43mbasis_eta\u001b[49m\u001b[38;5;241;43m.\u001b[39;49m\u001b[43minterpolate\u001b[49m\u001b[43m(\u001b[49m\u001b[43meta_guess\u001b[49m\u001b[43m)\u001b[49m\u001b[43m,\u001b[49m\u001b[43m \u001b[49m\u001b[43meta_0\u001b[49m\u001b[43m \u001b[49m\u001b[38;5;241;43m=\u001b[39;49m\u001b[43m \u001b[49m\u001b[43mbasis_eta\u001b[49m\u001b[38;5;241;43m.\u001b[39;49m\u001b[43minterpolate\u001b[49m\u001b[43m(\u001b[49m\u001b[43meta_previous\u001b[49m\u001b[43m)\u001b[49m\u001b[43m,\u001b[49m\u001b[43m \u001b[49m\u001b[43mb\u001b[49m\u001b[43m \u001b[49m\u001b[38;5;241;43m=\u001b[39;49m\u001b[43m \u001b[49m\u001b[43mbasis_eta\u001b[49m\u001b[38;5;241;43m.\u001b[39;49m\u001b[43minterpolate\u001b[49m\u001b[43m(\u001b[49m\u001b[43mb_func\u001b[49m\u001b[43m(\u001b[49m\u001b[43meta_coords\u001b[49m\u001b[43m,\u001b[49m\u001b[43m \u001b[49m\u001b[43ms\u001b[49m\u001b[43m)\u001b[49m\u001b[43m)\u001b[49m\u001b[43m,\u001b[49m\u001b[43m \u001b[49m\u001b[43mb_1\u001b[49m\u001b[43m \u001b[49m\u001b[38;5;241;43m=\u001b[39;49m\u001b[43m \u001b[49m\u001b[43mbasis_eta\u001b[49m\u001b[38;5;241;43m.\u001b[39;49m\u001b[43minterpolate\u001b[49m\u001b[43m(\u001b[49m\u001b[43mnp\u001b[49m\u001b[38;5;241;43m.\u001b[39;49m\u001b[43mgradient\u001b[49m\u001b[43m(\u001b[49m\u001b[43mb_func\u001b[49m\u001b[43m(\u001b[49m\u001b[43meta_coords\u001b[49m\u001b[43m,\u001b[49m\u001b[43m \u001b[49m\u001b[43ms\u001b[49m\u001b[43m)\u001b[49m\u001b[43m)\u001b[49m\u001b[43m)\u001b[49m\u001b[43m)\u001b[49m\n\u001b[1;32m     24\u001b[0m     \u001b[38;5;28;01mreturn\u001b[39;00m np\u001b[38;5;241m.\u001b[39mconcatenate((part1, part2))\n",
      "File \u001b[0;32m~/anaconda3/envs/pymcenv/lib/python3.12/site-packages/skfem/assembly/form/form.py:76\u001b[0m, in \u001b[0;36mForm.assemble\u001b[0;34m(self, *args, **kwargs)\u001b[0m\n\u001b[1;32m     74\u001b[0m \u001b[38;5;28;01massert\u001b[39;00m \u001b[38;5;28mself\u001b[39m\u001b[38;5;241m.\u001b[39mform \u001b[38;5;129;01mis\u001b[39;00m \u001b[38;5;129;01mnot\u001b[39;00m \u001b[38;5;28;01mNone\u001b[39;00m\n\u001b[1;32m     75\u001b[0m logger\u001b[38;5;241m.\u001b[39minfo(\u001b[38;5;124m\"\u001b[39m\u001b[38;5;124mAssembling \u001b[39m\u001b[38;5;124m'\u001b[39m\u001b[38;5;132;01m{}\u001b[39;00m\u001b[38;5;124m'\u001b[39m\u001b[38;5;124m.\u001b[39m\u001b[38;5;124m\"\u001b[39m\u001b[38;5;241m.\u001b[39mformat(\u001b[38;5;28mself\u001b[39m\u001b[38;5;241m.\u001b[39mform\u001b[38;5;241m.\u001b[39m\u001b[38;5;18m__name__\u001b[39m))\n\u001b[0;32m---> 76\u001b[0m out \u001b[38;5;241m=\u001b[39m (COOData(\u001b[38;5;241m*\u001b[39m\u001b[38;5;28;43mself\u001b[39;49m\u001b[38;5;241;43m.\u001b[39;49m\u001b[43m_assemble\u001b[49m\u001b[43m(\u001b[49m\u001b[38;5;241;43m*\u001b[39;49m\u001b[43margs\u001b[49m\u001b[43m,\u001b[49m\u001b[43m \u001b[49m\u001b[38;5;241;43m*\u001b[39;49m\u001b[38;5;241;43m*\u001b[39;49m\u001b[43mkwargs\u001b[49m\u001b[43m)\u001b[49m)  \u001b[38;5;66;03m# type: ignore\u001b[39;00m\n\u001b[1;32m     77\u001b[0m        \u001b[38;5;241m.\u001b[39mtodefault())\n\u001b[1;32m     78\u001b[0m logger\u001b[38;5;241m.\u001b[39minfo(\u001b[38;5;124m\"\u001b[39m\u001b[38;5;124mAssembling finished.\u001b[39m\u001b[38;5;124m\"\u001b[39m)\n\u001b[1;32m     79\u001b[0m \u001b[38;5;28;01mreturn\u001b[39;00m out\n",
      "File \u001b[0;32m~/anaconda3/envs/pymcenv/lib/python3.12/site-packages/skfem/assembly/form/linear_form.py:44\u001b[0m, in \u001b[0;36mLinearForm._assemble\u001b[0;34m(self, ubasis, vbasis, **kwargs)\u001b[0m\n\u001b[1;32m     42\u001b[0m     ixs \u001b[38;5;241m=\u001b[39m \u001b[38;5;28mslice\u001b[39m(nt \u001b[38;5;241m*\u001b[39m i, nt \u001b[38;5;241m*\u001b[39m (i \u001b[38;5;241m+\u001b[39m \u001b[38;5;241m1\u001b[39m))\n\u001b[1;32m     43\u001b[0m     rows[ixs] \u001b[38;5;241m=\u001b[39m vbasis\u001b[38;5;241m.\u001b[39melement_dofs[i]\n\u001b[0;32m---> 44\u001b[0m     \u001b[43mdata\u001b[49m\u001b[43m[\u001b[49m\u001b[43mixs\u001b[49m\u001b[43m]\u001b[49m \u001b[38;5;241m=\u001b[39m \u001b[38;5;28mself\u001b[39m\u001b[38;5;241m.\u001b[39m_kernel(vbasis\u001b[38;5;241m.\u001b[39mbasis[i], w, dx)\n\u001b[1;32m     46\u001b[0m \u001b[38;5;28;01mreturn\u001b[39;00m np\u001b[38;5;241m.\u001b[39marray([rows]), data, (vbasis\u001b[38;5;241m.\u001b[39mN,), (vbasis\u001b[38;5;241m.\u001b[39mNbfun,)\n",
      "\u001b[0;31mValueError\u001b[0m: could not broadcast input array from shape (3,) into shape (499,)"
     ]
    }
   ],
   "source": [
    "get_residual(u_guess, u_previous, eta_guess, eta_previous)"
   ]
  },
  {
   "cell_type": "code",
   "execution_count": null,
   "metadata": {},
   "outputs": [],
   "source": []
  }
 ],
 "metadata": {
  "kernelspec": {
   "display_name": "pymcenv",
   "language": "python",
   "name": "python3"
  },
  "language_info": {
   "codemirror_mode": {
    "name": "ipython",
    "version": 3
   },
   "file_extension": ".py",
   "mimetype": "text/x-python",
   "name": "python",
   "nbconvert_exporter": "python",
   "pygments_lexer": "ipython3",
   "version": "3.12.3"
  }
 },
 "nbformat": 4,
 "nbformat_minor": 2
}
