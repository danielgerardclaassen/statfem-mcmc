{
 "cells": [
  {
   "cell_type": "code",
   "execution_count": 3,
   "metadata": {},
   "outputs": [
    {
     "name": "stdout",
     "output_type": "stream",
     "text": [
      "2024-08-28 15:18:11,185 pencil 0/1 INFO :: Building pencil matrix 1/1 (~100%) Elapsed: 0s, Remaining: 0s, Rate: 1.7e+01/s\n",
      "2024-08-28 15:18:12,930 solvers 0/1 INFO :: Stop iteration reached.\n"
     ]
    }
   ],
   "source": [
    "import numpy as np\n",
    "import h5py\n",
    "import sympy\n",
    "\n",
    "from dedalus import public as de\n",
    "\n",
    "# settings etc\n",
    "settings = {\"x_start\": 0, \"x_end\": 20, \"nx\": 400,\n",
    "            \"t_start\": 0, \"t_end\": 50, \"nt\": 2001,\n",
    "            \"nx_out\": 20,\n",
    "            \"nx_spectral\": 1024,\n",
    "            \"nt_spectral\": 2001}\n",
    "parameters = {\"alpha\": 1, \"beta\": 1e-2, \"epsilon\": 20, \"c\": 0}\n",
    "initial_condition = \"-0.3 * (1 / cosh(x - 15))**2\"\n",
    "\n",
    "x_sym = sympy.symbols(\"x\")\n",
    "u_init = sympy.sympify(initial_condition)\n",
    "f_u_init = sympy.lambdify(x_sym, u_init, \"numpy\")\n",
    "\n",
    "nt_out = settings[\"nt\"] - 1\n",
    "dt = (settings[\"t_end\"] - settings[\"t_start\"]) / (settings[\"nt_spectral\"] - 1)\n",
    "\n",
    "x_basis = de.Fourier(\"x\",\n",
    "                     settings[\"nx_spectral\"],\n",
    "                     interval=(settings[\"x_start\"], settings[\"x_end\"]),\n",
    "                     dealias=1)\n",
    "domain = de.Domain([x_basis], np.float64)\n",
    "\n",
    "# define the problem\n",
    "problem = de.IVP(domain, variables=[\"u\", \"ux\", \"uxx\"])\n",
    "problem.parameters[\"alpha\"] = parameters[\"alpha\"]\n",
    "problem.parameters[\"beta\"] = parameters[\"beta\"]\n",
    "problem.parameters[\"c\"] = parameters[\"c\"]\n",
    "problem.parameters[\"epsilon\"] = parameters[\"epsilon\"]\n",
    "problem.add_equation(\"dt(u) + beta * dx(uxx) + c * dx(u) = -alpha * u * ux - epsilon * u**3 * ux\")\n",
    "problem.add_equation(\"ux - dx(u) = 0\")\n",
    "problem.add_equation(\"uxx - dx(ux) = 0\")\n",
    "\n",
    "solver = problem.build_solver(de.timesteppers.SBDF2)\n",
    "solver.stop_wall_time = 300\n",
    "solver.stop_iteration = settings[\"nt_spectral\"] - 1\n",
    "\n",
    "x = domain.grid(0)\n",
    "u = solver.state[\"u\"]\n",
    "ux = solver.state[\"ux\"]\n",
    "uxx = solver.state[\"uxx\"]\n",
    "\n",
    "u[\"g\"] = f_u_init(x)\n",
    "u.differentiate(0, out=ux)\n",
    "ux.differentiate(0, out=uxx)\n",
    "\n",
    "step = settings[\"nx_spectral\"] // settings[\"nx_out\"]\n",
    "u_list = [np.copy(u[\"g\"][:])]\n",
    "t_list = [solver.sim_time]\n",
    "\n",
    "while solver.proceed:\n",
    "    solver.step(dt)\n",
    "    if solver.iteration % int(np.rint(settings[\"nt_spectral\"] / nt_out)) == 0:\n",
    "        u_list.append(np.copy(u[\"g\"][:]))\n",
    "        t_list.append(solver.sim_time)\n",
    "\n",
    "t_grid = np.asarray(t_list)\n",
    "x_grid = x[::step]\n",
    "x_solve = np.linspace(settings[\"x_start\"],\n",
    "                    settings[\"x_end\"],\n",
    "                    settings[\"nx\"],\n",
    "                    endpoint=False)\n",
    "u_grid = np.array(u_list)\n",
    "\n",
    "with h5py.File('kdvcubic.h5', \"w\") as f:\n",
    "    u_grid = u_grid[:, ::step]\n",
    "    u_grid += np.random.normal(scale=0.001, size=u_grid.shape)\n",
    "\n",
    "    data = f.create_group(\"data\")\n",
    "    data.create_dataset(\"t_grid\", data=t_grid)\n",
    "    data.create_dataset(\"x_grid\", data=x_grid[x_grid < x_solve[-1]])\n",
    "    data.create_dataset(\"y\", data=u_grid[:, x_grid < x_solve[-1]])"
   ]
  },
  {
   "cell_type": "code",
   "execution_count": null,
   "metadata": {},
   "outputs": [],
   "source": []
  }
 ],
 "metadata": {
  "kernelspec": {
   "display_name": "pymcenv",
   "language": "python",
   "name": "python3"
  },
  "language_info": {
   "codemirror_mode": {
    "name": "ipython",
    "version": 3
   },
   "file_extension": ".py",
   "mimetype": "text/x-python",
   "name": "python",
   "nbconvert_exporter": "python",
   "pygments_lexer": "ipython3",
   "version": "3.12.3"
  }
 },
 "nbformat": 4,
 "nbformat_minor": 2
}
